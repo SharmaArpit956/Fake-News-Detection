{
  "cells": [
    {
      "cell_type": "code",
      "execution_count": 36,
      "id": "0fa38f25-ce86-41a6-a1bb-b7d34bb91a0d",
      "metadata": {
        "id": "0fa38f25-ce86-41a6-a1bb-b7d34bb91a0d",
        "pycharm": {
          "name": "#%%\n"
        }
      },
      "outputs": [],
      "source": [
        "import numpy as np\n",
        "import pandas as pd\n",
        "from sklearn.model_selection import train_test_split\n",
        "from sklearn.feature_extraction.text import TfidfVectorizer\n",
        "from sklearn.svm import LinearSVC\n",
        "from sklearn.metrics import confusion_matrix\n",
        "import matplotlib.pyplot as plt\n",
        "import seaborn as sns\n",
        "import random"
      ]
    },
    {
      "cell_type": "code",
      "execution_count": 37,
      "id": "3eca8e7b-9d84-491b-a12d-aabf4a4661cd",
      "metadata": {
        "id": "3eca8e7b-9d84-491b-a12d-aabf4a4661cd",
        "pycharm": {
          "name": "#%%\n"
        }
      },
      "outputs": [],
      "source": [
        "data = pd.read_csv(\"fake_or_real_news.csv\")"
      ]
    },
    {
      "cell_type": "code",
      "execution_count": 38,
      "id": "8404f05c-847c-4d55-851e-22b5523217d5",
      "metadata": {
        "id": "8404f05c-847c-4d55-851e-22b5523217d5",
        "outputId": "be829e2b-e29e-49ea-e6e7-d473e4057466",
        "pycharm": {
          "name": "#%%\n"
        }
      },
      "outputs": [
        {
          "data": {
            "text/html": [
              "<div>\n",
              "<style scoped>\n",
              "    .dataframe tbody tr th:only-of-type {\n",
              "        vertical-align: middle;\n",
              "    }\n",
              "\n",
              "    .dataframe tbody tr th {\n",
              "        vertical-align: top;\n",
              "    }\n",
              "\n",
              "    .dataframe thead th {\n",
              "        text-align: right;\n",
              "    }\n",
              "</style>\n",
              "<table border=\"1\" class=\"dataframe\">\n",
              "  <thead>\n",
              "    <tr style=\"text-align: right;\">\n",
              "      <th></th>\n",
              "      <th>id</th>\n",
              "      <th>title</th>\n",
              "      <th>text</th>\n",
              "      <th>label</th>\n",
              "    </tr>\n",
              "  </thead>\n",
              "  <tbody>\n",
              "    <tr>\n",
              "      <th>0</th>\n",
              "      <td>8476</td>\n",
              "      <td>You Can Smell Hillary’s Fear</td>\n",
              "      <td>Daniel Greenfield, a Shillman Journalism Fello...</td>\n",
              "      <td>FAKE</td>\n",
              "    </tr>\n",
              "    <tr>\n",
              "      <th>1</th>\n",
              "      <td>10294</td>\n",
              "      <td>Watch The Exact Moment Paul Ryan Committed Pol...</td>\n",
              "      <td>Google Pinterest Digg Linkedin Reddit Stumbleu...</td>\n",
              "      <td>FAKE</td>\n",
              "    </tr>\n",
              "    <tr>\n",
              "      <th>2</th>\n",
              "      <td>3608</td>\n",
              "      <td>Kerry to go to Paris in gesture of sympathy</td>\n",
              "      <td>U.S. Secretary of State John F. Kerry said Mon...</td>\n",
              "      <td>REAL</td>\n",
              "    </tr>\n",
              "    <tr>\n",
              "      <th>3</th>\n",
              "      <td>10142</td>\n",
              "      <td>Bernie supporters on Twitter erupt in anger ag...</td>\n",
              "      <td>— Kaydee King (@KaydeeKing) November 9, 2016 T...</td>\n",
              "      <td>FAKE</td>\n",
              "    </tr>\n",
              "    <tr>\n",
              "      <th>4</th>\n",
              "      <td>875</td>\n",
              "      <td>The Battle of New York: Why This Primary Matters</td>\n",
              "      <td>It's primary day in New York and front-runners...</td>\n",
              "      <td>REAL</td>\n",
              "    </tr>\n",
              "    <tr>\n",
              "      <th>...</th>\n",
              "      <td>...</td>\n",
              "      <td>...</td>\n",
              "      <td>...</td>\n",
              "      <td>...</td>\n",
              "    </tr>\n",
              "    <tr>\n",
              "      <th>6330</th>\n",
              "      <td>4490</td>\n",
              "      <td>State Department says it can't find emails fro...</td>\n",
              "      <td>The State Department told the Republican Natio...</td>\n",
              "      <td>REAL</td>\n",
              "    </tr>\n",
              "    <tr>\n",
              "      <th>6331</th>\n",
              "      <td>8062</td>\n",
              "      <td>The ‘P’ in PBS Should Stand for ‘Plutocratic’ ...</td>\n",
              "      <td>The ‘P’ in PBS Should Stand for ‘Plutocratic’ ...</td>\n",
              "      <td>FAKE</td>\n",
              "    </tr>\n",
              "    <tr>\n",
              "      <th>6332</th>\n",
              "      <td>8622</td>\n",
              "      <td>Anti-Trump Protesters Are Tools of the Oligarc...</td>\n",
              "      <td>Anti-Trump Protesters Are Tools of the Oligar...</td>\n",
              "      <td>FAKE</td>\n",
              "    </tr>\n",
              "    <tr>\n",
              "      <th>6333</th>\n",
              "      <td>4021</td>\n",
              "      <td>In Ethiopia, Obama seeks progress on peace, se...</td>\n",
              "      <td>ADDIS ABABA, Ethiopia —President Obama convene...</td>\n",
              "      <td>REAL</td>\n",
              "    </tr>\n",
              "    <tr>\n",
              "      <th>6334</th>\n",
              "      <td>4330</td>\n",
              "      <td>Jeb Bush Is Suddenly Attacking Trump. Here's W...</td>\n",
              "      <td>Jeb Bush Is Suddenly Attacking Trump. Here's W...</td>\n",
              "      <td>REAL</td>\n",
              "    </tr>\n",
              "  </tbody>\n",
              "</table>\n",
              "<p>6335 rows × 4 columns</p>\n",
              "</div>"
            ],
            "text/plain": [
              "         id                                              title  \\\n",
              "0      8476                       You Can Smell Hillary’s Fear   \n",
              "1     10294  Watch The Exact Moment Paul Ryan Committed Pol...   \n",
              "2      3608        Kerry to go to Paris in gesture of sympathy   \n",
              "3     10142  Bernie supporters on Twitter erupt in anger ag...   \n",
              "4       875   The Battle of New York: Why This Primary Matters   \n",
              "...     ...                                                ...   \n",
              "6330   4490  State Department says it can't find emails fro...   \n",
              "6331   8062  The ‘P’ in PBS Should Stand for ‘Plutocratic’ ...   \n",
              "6332   8622  Anti-Trump Protesters Are Tools of the Oligarc...   \n",
              "6333   4021  In Ethiopia, Obama seeks progress on peace, se...   \n",
              "6334   4330  Jeb Bush Is Suddenly Attacking Trump. Here's W...   \n",
              "\n",
              "                                                   text label  \n",
              "0     Daniel Greenfield, a Shillman Journalism Fello...  FAKE  \n",
              "1     Google Pinterest Digg Linkedin Reddit Stumbleu...  FAKE  \n",
              "2     U.S. Secretary of State John F. Kerry said Mon...  REAL  \n",
              "3     — Kaydee King (@KaydeeKing) November 9, 2016 T...  FAKE  \n",
              "4     It's primary day in New York and front-runners...  REAL  \n",
              "...                                                 ...   ...  \n",
              "6330  The State Department told the Republican Natio...  REAL  \n",
              "6331  The ‘P’ in PBS Should Stand for ‘Plutocratic’ ...  FAKE  \n",
              "6332   Anti-Trump Protesters Are Tools of the Oligar...  FAKE  \n",
              "6333  ADDIS ABABA, Ethiopia —President Obama convene...  REAL  \n",
              "6334  Jeb Bush Is Suddenly Attacking Trump. Here's W...  REAL  \n",
              "\n",
              "[6335 rows x 4 columns]"
            ]
          },
          "execution_count": 38,
          "metadata": {},
          "output_type": "execute_result"
        }
      ],
      "source": [
        "data"
      ]
    },
    {
      "cell_type": "code",
      "execution_count": 39,
      "id": "b1b8b232-b221-4f54-8ac3-412faa79bb74",
      "metadata": {
        "id": "b1b8b232-b221-4f54-8ac3-412faa79bb74",
        "pycharm": {
          "name": "#%%\n"
        }
      },
      "outputs": [],
      "source": [
        "data['fake'] = data['label'].apply(lambda x: 0 if x == \"REAL\" else 1)\n",
        "data = data.drop(\"label\", axis=1)"
      ]
    },
    {
      "cell_type": "code",
      "execution_count": 40,
      "id": "928a6e91-a51f-4429-9f67-a9ea955da69b",
      "metadata": {
        "id": "928a6e91-a51f-4429-9f67-a9ea955da69b",
        "pycharm": {
          "name": "#%%\n"
        }
      },
      "outputs": [],
      "source": [
        "X, y = data[\"text\"], data[\"fake\"]\n",
        "\n",
        "X_train, X_test, y_train, y_test = train_test_split(X, y, test_size=0.2)"
      ]
    },
    {
      "cell_type": "markdown",
      "id": "cb83bc27-31df-490a-bc47-5b4a5dcf1937",
      "metadata": {
        "id": "cb83bc27-31df-490a-bc47-5b4a5dcf1937",
        "pycharm": {
          "name": "#%% md\n"
        }
      },
      "source": [
        "TF-IDF: Term Frequency - Inverse Document Frequency\n",
        "\n",
        "A metric that indicates how important a word is to a document in a collection. It weighs the improtance of each word in a document based on how often it appears in that document and how often it appears accross all documents in the collection.\n",
        "\n",
        "TF: Number of times a term t appears in a document\n",
        "IDF: Logarithm of total number of documents divided by no. of docs that contain term\n",
        "TF-IDF: TF * IDF\n",
        "\n",
        "Basically allows us to find the most relevant and distinctive words per document."
      ]
    },
    {
      "cell_type": "code",
      "execution_count": 41,
      "id": "398615cb-56f2-4811-9036-38962c401d47",
      "metadata": {
        "id": "398615cb-56f2-4811-9036-38962c401d47",
        "pycharm": {
          "name": "#%%\n"
        }
      },
      "outputs": [],
      "source": [
        "vectorizer = TfidfVectorizer(stop_words='english', max_df=0.7)\n",
        "X_train_vectorized = vectorizer.fit_transform(X_train)\n",
        "X_test_vectorized = vectorizer.transform(X_test)"
      ]
    },
    {
      "cell_type": "code",
      "execution_count": 42,
      "id": "77d5f2f4-7ad6-4f64-8a76-2d4cbb8976bb",
      "metadata": {
        "id": "77d5f2f4-7ad6-4f64-8a76-2d4cbb8976bb",
        "outputId": "98a7ca3f-46cb-4c27-e2b4-033c14188d11",
        "pycharm": {
          "name": "#%%\n"
        }
      },
      "outputs": [
        {
          "data": {
            "text/html": [
              "<style>#sk-container-id-3 {color: black;background-color: white;}#sk-container-id-3 pre{padding: 0;}#sk-container-id-3 div.sk-toggleable {background-color: white;}#sk-container-id-3 label.sk-toggleable__label {cursor: pointer;display: block;width: 100%;margin-bottom: 0;padding: 0.3em;box-sizing: border-box;text-align: center;}#sk-container-id-3 label.sk-toggleable__label-arrow:before {content: \"▸\";float: left;margin-right: 0.25em;color: #696969;}#sk-container-id-3 label.sk-toggleable__label-arrow:hover:before {color: black;}#sk-container-id-3 div.sk-estimator:hover label.sk-toggleable__label-arrow:before {color: black;}#sk-container-id-3 div.sk-toggleable__content {max-height: 0;max-width: 0;overflow: hidden;text-align: left;background-color: #f0f8ff;}#sk-container-id-3 div.sk-toggleable__content pre {margin: 0.2em;color: black;border-radius: 0.25em;background-color: #f0f8ff;}#sk-container-id-3 input.sk-toggleable__control:checked~div.sk-toggleable__content {max-height: 200px;max-width: 100%;overflow: auto;}#sk-container-id-3 input.sk-toggleable__control:checked~label.sk-toggleable__label-arrow:before {content: \"▾\";}#sk-container-id-3 div.sk-estimator input.sk-toggleable__control:checked~label.sk-toggleable__label {background-color: #d4ebff;}#sk-container-id-3 div.sk-label input.sk-toggleable__control:checked~label.sk-toggleable__label {background-color: #d4ebff;}#sk-container-id-3 input.sk-hidden--visually {border: 0;clip: rect(1px 1px 1px 1px);clip: rect(1px, 1px, 1px, 1px);height: 1px;margin: -1px;overflow: hidden;padding: 0;position: absolute;width: 1px;}#sk-container-id-3 div.sk-estimator {font-family: monospace;background-color: #f0f8ff;border: 1px dotted black;border-radius: 0.25em;box-sizing: border-box;margin-bottom: 0.5em;}#sk-container-id-3 div.sk-estimator:hover {background-color: #d4ebff;}#sk-container-id-3 div.sk-parallel-item::after {content: \"\";width: 100%;border-bottom: 1px solid gray;flex-grow: 1;}#sk-container-id-3 div.sk-label:hover label.sk-toggleable__label {background-color: #d4ebff;}#sk-container-id-3 div.sk-serial::before {content: \"\";position: absolute;border-left: 1px solid gray;box-sizing: border-box;top: 0;bottom: 0;left: 50%;z-index: 0;}#sk-container-id-3 div.sk-serial {display: flex;flex-direction: column;align-items: center;background-color: white;padding-right: 0.2em;padding-left: 0.2em;position: relative;}#sk-container-id-3 div.sk-item {position: relative;z-index: 1;}#sk-container-id-3 div.sk-parallel {display: flex;align-items: stretch;justify-content: center;background-color: white;position: relative;}#sk-container-id-3 div.sk-item::before, #sk-container-id-3 div.sk-parallel-item::before {content: \"\";position: absolute;border-left: 1px solid gray;box-sizing: border-box;top: 0;bottom: 0;left: 50%;z-index: -1;}#sk-container-id-3 div.sk-parallel-item {display: flex;flex-direction: column;z-index: 1;position: relative;background-color: white;}#sk-container-id-3 div.sk-parallel-item:first-child::after {align-self: flex-end;width: 50%;}#sk-container-id-3 div.sk-parallel-item:last-child::after {align-self: flex-start;width: 50%;}#sk-container-id-3 div.sk-parallel-item:only-child::after {width: 0;}#sk-container-id-3 div.sk-dashed-wrapped {border: 1px dashed gray;margin: 0 0.4em 0.5em 0.4em;box-sizing: border-box;padding-bottom: 0.4em;background-color: white;}#sk-container-id-3 div.sk-label label {font-family: monospace;font-weight: bold;display: inline-block;line-height: 1.2em;}#sk-container-id-3 div.sk-label-container {text-align: center;}#sk-container-id-3 div.sk-container {/* jupyter's `normalize.less` sets `[hidden] { display: none; }` but bootstrap.min.css set `[hidden] { display: none !important; }` so we also need the `!important` here to be able to override the default hidden behavior on the sphinx rendered scikit-learn.org. See: https://github.com/scikit-learn/scikit-learn/issues/21755 */display: inline-block !important;position: relative;}#sk-container-id-3 div.sk-text-repr-fallback {display: none;}</style><div id=\"sk-container-id-3\" class=\"sk-top-container\"><div class=\"sk-text-repr-fallback\"><pre>LinearSVC()</pre><b>In a Jupyter environment, please rerun this cell to show the HTML representation or trust the notebook. <br />On GitHub, the HTML representation is unable to render, please try loading this page with nbviewer.org.</b></div><div class=\"sk-container\" hidden><div class=\"sk-item\"><div class=\"sk-estimator sk-toggleable\"><input class=\"sk-toggleable__control sk-hidden--visually\" id=\"sk-estimator-id-3\" type=\"checkbox\" checked><label for=\"sk-estimator-id-3\" class=\"sk-toggleable__label sk-toggleable__label-arrow\">LinearSVC</label><div class=\"sk-toggleable__content\"><pre>LinearSVC()</pre></div></div></div></div></div>"
            ],
            "text/plain": [
              "LinearSVC()"
            ]
          },
          "execution_count": 42,
          "metadata": {},
          "output_type": "execute_result"
        }
      ],
      "source": [
        "clf = LinearSVC()  # Linear SVC is considered one of the best text classification algorithms\n",
        "clf.fit(X_train_vectorized, y_train)"
      ]
    },
    {
      "cell_type": "code",
      "execution_count": 43,
      "id": "e074b5ae-019d-40d8-be2c-b30b03baa0d9",
      "metadata": {
        "id": "e074b5ae-019d-40d8-be2c-b30b03baa0d9",
        "outputId": "de93004d-988d-4ceb-dc8e-e173c4be50f3",
        "pycharm": {
          "name": "#%%\n"
        }
      },
      "outputs": [
        {
          "data": {
            "text/plain": [
              "0.9400157853196527"
            ]
          },
          "execution_count": 43,
          "metadata": {},
          "output_type": "execute_result"
        }
      ],
      "source": [
        "clf.score(X_test_vectorized, y_test)"
      ]
    },
    {
      "cell_type": "code",
      "execution_count": 44,
      "id": "da1819a2-4185-46ca-a3eb-7f21fd607c04",
      "metadata": {
        "id": "da1819a2-4185-46ca-a3eb-7f21fd607c04",
        "pycharm": {
          "name": "#%%\n"
        }
      },
      "outputs": [],
      "source": [
        "article_text = X_test.iloc[10]\n",
        "vectorized_text = vectorizer.transform([article_text])"
      ]
    },
    {
      "cell_type": "code",
      "execution_count": 45,
      "id": "10dff146-93eb-4a14-a75f-61fa6afed777",
      "metadata": {
        "id": "10dff146-93eb-4a14-a75f-61fa6afed777",
        "outputId": "049ae8d3-79ba-4147-e8fd-01e5fc078857",
        "pycharm": {
          "name": "#%%\n"
        }
      },
      "outputs": [
        {
          "data": {
            "text/plain": [
              "array([0], dtype=int64)"
            ]
          },
          "execution_count": 45,
          "metadata": {},
          "output_type": "execute_result"
        }
      ],
      "source": [
        "clf.predict(vectorized_text)"
      ]
    },
    {
      "cell_type": "code",
      "execution_count": 46,
      "id": "6c20c502-4e67-443d-8e25-29ae3a77d1e0",
      "metadata": {
        "id": "6c20c502-4e67-443d-8e25-29ae3a77d1e0",
        "outputId": "1bb94a06-4821-4565-e77c-75f3b8d335f7",
        "pycharm": {
          "name": "#%%\n"
        }
      },
      "outputs": [
        {
          "data": {
            "text/plain": [
              "0"
            ]
          },
          "execution_count": 46,
          "metadata": {},
          "output_type": "execute_result"
        }
      ],
      "source": [
        "y_test.iloc[10]"
      ]
    },
    {
      "cell_type": "code",
      "execution_count": 47,
      "id": "LMmKqK6-BzwG",
      "metadata": {
        "id": "LMmKqK6-BzwG",
        "outputId": "c79fde6f-d7fa-4431-940c-678b185ce96f"
      },
      "outputs": [
        {
          "name": "stdout",
          "output_type": "stream",
          "text": [
            "The answer is correct.\n"
          ]
        }
      ],
      "source": [
        "# Generate a random index within the range of X_test\n",
        "random_index = random.randint(0, len(X_test) - 1)\n",
        "\n",
        "# Select a random article using the generated index\n",
        "article_text = X_test.iloc[random_index]\n",
        "vectorized_text = vectorizer.transform([article_text])\n",
        "\n",
        "# Predict\n",
        "predicted_value = clf.predict(vectorized_text)[0]\n",
        "\n",
        "# Actual value\n",
        "actual_value = y_test.iloc[random_index]\n",
        "\n",
        "# Comparison and output\n",
        "if predicted_value == actual_value:\n",
        "    print(\"The answer is correct.\")\n",
        "else:\n",
        "    print(\"The answer is incorrect.\")\n",
        "\n"
      ]
    },
    {
      "cell_type": "code",
      "execution_count": 48,
      "id": "Belrhu7ZBzwG",
      "metadata": {
        "id": "Belrhu7ZBzwG",
        "outputId": "768e09dc-7795-4e64-ca9c-2a3e2b8380b7"
      },
      "outputs": [
        {
          "name": "stdout",
          "output_type": "stream",
          "text": [
            "Index: 12, Predicted: 1, Actual: 0\n",
            "Text: There’s an infection hospitals can nearly always prevent. Why don’t they?\n",
            "\n",
            "By one estimate, 210,000 deaths every year are associated with preventable harm caused by hospitals. Our multimedia feature \"Do no harm\" explores how different attitudes toward patient harm can make a difference between life and death for a patient. Vox reporter Sarah Kliff invited me along to document the reporting, which resulted in the following video.\n",
            "\n",
            "Index: 41, Predicted: 1, Actual: 0\n",
            "Text: PITTSBURGH—Hillary Clinton on Saturday drew a contrast between how she and Republican rival would conduct their first 100 days in office, zeroing in on his contention that he would sue the women who have accused him of making unwanted sexual advances. Speaking to reporters on her campaign plane Saturday night, Mrs. Clinton and her running […]\n",
            "\n"
          ]
        }
      ],
      "source": [
        "# Predict for the entire test set\n",
        "predictions = clf.predict(X_test_vectorized)\n",
        "\n",
        "# Convert predictions and actual labels to arrays for easier comparison\n",
        "predictions_array = np.array(predictions)\n",
        "actual_labels_array = y_test.to_numpy()\n",
        "\n",
        "# Find indices where predictions and actual labels differ\n",
        "mismatch_indices = np.where(predictions_array != actual_labels_array)[0]\n",
        "\n",
        "# Print first 2 mismatches with its index\n",
        "for index in mismatch_indices[:2]:\n",
        "    print(f\"Index: {index}, Predicted: {predictions_array[index]}, Actual: {actual_labels_array[index]}\")\n",
        "    print(f\"Text: {X_test.iloc[index]}\\n\")\n"
      ]
    },
    {
      "cell_type": "code",
      "execution_count": 49,
      "id": "7CQEhSt5BzwG",
      "metadata": {
        "id": "7CQEhSt5BzwG"
      },
      "outputs": [],
      "source": [
        "# Predict for the entire test set\n",
        "predictions = clf.predict(X_test_vectorized)\n",
        "\n",
        "# Convert predictions and actual labels to arrays for easier comparison\n",
        "predictions_array = np.array(predictions)\n",
        "actual_labels_array = y_test.to_numpy()\n",
        "\n",
        "# Initialize lists for false negatives and false positives\n",
        "false_negatives = []\n",
        "false_positives = []\n",
        "\n",
        "# Iterate over the predictions and actual labels\n",
        "for i in range(len(predictions_array)):\n",
        "    if predictions_array[i] == 0 and actual_labels_array[i] == 1:\n",
        "        # False Negative\n",
        "        false_negatives.append(i)\n",
        "    elif predictions_array[i] == 1 and actual_labels_array[i] == 0:\n",
        "        # False Positive\n",
        "        false_positives.append(i)"
      ]
    },
    {
      "cell_type": "code",
      "execution_count": 50,
      "id": "LNAOCkz5BzwG",
      "metadata": {
        "id": "LNAOCkz5BzwG",
        "outputId": "423e7bcc-04b9-4cbe-d63b-a43ca40805f9"
      },
      "outputs": [
        {
          "name": "stdout",
          "output_type": "stream",
          "text": [
            "False Negatives: ACTUALLY FAKE\n",
            "Index: 43, Text: Will shake things up \n",
            "Media ratings magnet / Likely to steal all the thunder \n",
            "Since Trump’s June 2015 announcement speech, every word or phrase listed above describes what the American electorate witnessed or felt during the campaign because, as I said, Trump’s consistency has been uncanny. \n",
            "Now, let’s now examine three quotes from the speech and then refer back to the list. All three reinforce the premise in my headline. But it was the following statement that haunted Trump’s campaign from the second the words left his mouth: \n",
            "When Mexico sends its people, they’re not sending their best. They’re not sending you. They’re not sending you. They’re sending people that have lots of problems, and they’re bringing those problems with us. They’re bringing drugs, they’re bringing crime, they’re rapists, and some, I assume, are good people. \n",
            "Watching Trump say that on live television, I immediately thought, “There goes the Hispanic vote!” The fact is demographic voter data shows that for a Republican to be elected president, he or she must win at least 47% of the national Hispanic vote. Then poof, in one 20-second rant, Trump destroyed all the Republican Party’s Hispanic outreach rendered since Romney won only 27% of the Hispanic vote in 2012. \n",
            "From the “impression list,” Trump’s inartful Mexican statement branded him with “lacks a political filter,” and “lacks presidential demeanor” to put it mildly. These two major negative “branding phrases” may have begun with his much-maligned Mexican comments, but later applied to numerous Trump-isms which popped up over the last year slowly undermining and unraveling his chances of ever winning 270 electoral votes. \n",
            "Next is a Trump foreign policy gem about terrorism: \n",
            "Islamic terrorism is eating large portions of the Mideast. They’ve become rich. I’m in competition with them. \n",
            "What the #@& does that mean? Let’s go to the “impression list” where we apply incoherent, inarticulate, uninformed, and desperately in need of a speech writer , to name just a few. And once again, repeat after me: “Aall we need to know we learned….” \n",
            "For my last selection, I chose an example of how Trump, right out of the starting gate, tried to antagonize and denigrate other Republican presidential candidates (and later high-ranking party leaders.) It is important to note that Trump made the following statement within the first minute of his announcement speech: \n",
            "The other candidates — they went in, they didn’t know the air conditioning didn’t work. They sweated like dogs. They didn’t know the room was too big because they didn’t have anybody there. How are they gonna beat ISIS? I don’t think it’s gonna happen. \n",
            "Yikes! That nonsensical statement exploded the “impression list.” It was the opening act of an obstinate candidate who, we found out too late, is totally resistant to change even after his campaign began its slow-motion meltdown. \n",
            "Sadly, Trump’s announcement speech stands as living proof that he flunked kindergarten etiquette. Circling back to Flughum’s theory, during his campaign, Trump never learned to clean up his own mess and has never said he was sorry after hurting someone (or a group of someones.) \n",
            "In the end, Trump’s likely defeat will be written off as an historical fluke. He will be viewed as a charismatic, untested, one-time outsider candidate who spearheaded a successful movement of fed-up voters. Through his celebrity status, he managed to parlay mass frustration into winning the Republican presidential nomination but, along the way neglected to learn the basics of kindergarten-level political behavior. \n",
            "The views expressed in this article are those of the author and do not necessarily represent or reflect the views of the editors. \n",
            "Cross-posted at RedState\n",
            "\n",
            "Index: 61, Text: Hillary Clinton Waiting In Wings Of Stage Since 6 A.M. For DNC Speech PHILADELPHIA—Saying she arrived hours before any of the members of the production crew, sources confirmed Thursday that presidential nominee Hillary Clinton has been waiting in the wings of the Wells Fargo Center stage since six o’clock this morning to deliver her speech at the Democratic National Convention. Depressed, Butter-Covered Tom Vilsack Enters Sixth Day Of Corn Bender After Losing VP Spot WASHINGTON—Saying she has grown increasingly concerned about her husband’s mental and physical well-being since last Friday, Christie Vilsack, the wife of Agriculture Secretary Tom Vilsack, told reporters Thursday that the despondent, butter-covered cabinet member has entered the sixth day of a destructive corn bender after being passed over for the Democratic vice presidential spot. DNC Speech: ‘I Am Proud To Say I Walked In On Bill And Hillary Having Sex’ A friend of the Clinton family describes a Hillary who America never gets to see: the one he saw having sex. Trump Sick And Tired Of Mainstream Media Always Trying To Put His Words Into Some Sort Of Context NEW YORK—Emphasizing that the practice was just more evidence of journalists’ bias against him, Republican presidential nominee Donald Trump stated Thursday that he was sick and tired of the mainstream media always attempting to place his words into some kind of context. Who’s Speaking At The DNC: Day 4 Here is a guide to the major speakers who will be addressing attendees on the final night of the 2016 Democratic National Convention Bound, Gagged Joaquin Castro Horrified By What His Identical Twin Brother Might Be Doing Out On DNC Floor PHILADELPHIA—Struggling to free himself from the tightly wound lengths of rope binding his wrists and ankles together, bruised and gagged Texas congressman Joaquin Castro was reportedly horrified by what his identical twin brother, Secretary of Housing and Urban Development Julian Castro, might be out doing on the floor of the DNC Thursday. Obama: ‘Hillary Will Fight To Protect My Legacy, Even The Truly Detestable Parts’ PHILADELPHIA—Emphasizing the former secretary of state’s competence and tenacity during his Democratic National Convention address Wednesday night, President Barack Obama praised Hillary Clinton as someone who would work tirelessly to defend and advance the legacy he had built, even the “truly repugnant parts.” Tim Kaine Clearly Tuning Out In Middle Of Boring Vice Presidential Acceptance Speech PHILADELPHIA—Describing the look of total disinterest on his face and noting how he kept peering down at his watch as the speech progressed, sources at the Democratic National Convention said that Virginia senator Tim Kaine clearly began tuning out partway through the boring vice presidential acceptance address Wednesday night. Cannon Overshoots Tim Kaine Across Wells Fargo Center PHILADELPHIA—Noting that the vice presidential nominee had been launched nearly 100 feet into the air during his entrance into the Democratic National Convention Wednesday night, sources reported that the cannon at the back of the Wells Fargo Center had accidentally overshot Tim Kaine across the arena, sending him crashing to the stage several dozen feet beyond the erected safety net. Biden Regales DNC With Story Of ’80s Girl Band Vixen Breaking Hard Rock’s Glass Ceiling PHILADELPHIA—Devoting a large portion of his speech to the “pioneering, stiffy-inducing” all-female quartet, Vice President Joe Biden regaled the Democratic National Convention Wednesday night with the rousing story of the metal band Vixen breaking hard rock’s glass ceiling in the late 1980s. \n",
            "\n"
          ]
        }
      ],
      "source": [
        "# Print False Negatives\n",
        "print(\"False Negatives: ACTUALLY FAKE NEWS!!!\")\n",
        "for index in false_negatives[:2]:\n",
        "    print(f\"Index: {index}, Text: {X_test.iloc[index]}\")\n",
        "    print()\n"
      ]
    },
    {
      "cell_type": "code",
      "execution_count": 51,
      "id": "ftXNIK-HBzwH",
      "metadata": {
        "id": "ftXNIK-HBzwH",
        "outputId": "626cf65a-f1b7-4248-f599-ecdd203f7df7"
      },
      "outputs": [
        {
          "name": "stdout",
          "output_type": "stream",
          "text": [
            "\n",
            "False Positives: ACTUALLY REAL\n",
            "Index: 12, Text: There’s an infection hospitals can nearly always prevent. Why don’t they?\n",
            "\n",
            "By one estimate, 210,000 deaths every year are associated with preventable harm caused by hospitals. Our multimedia feature \"Do no harm\" explores how different attitudes toward patient harm can make a difference between life and death for a patient. Vox reporter Sarah Kliff invited me along to document the reporting, which resulted in the following video.\n",
            "\n",
            "Index: 41, Text: PITTSBURGH—Hillary Clinton on Saturday drew a contrast between how she and Republican rival would conduct their first 100 days in office, zeroing in on his contention that he would sue the women who have accused him of making unwanted sexual advances. Speaking to reporters on her campaign plane Saturday night, Mrs. Clinton and her running […]\n",
            "\n"
          ]
        }
      ],
      "source": [
        "# Print False Positives\n",
        "print(\"\\nFalse Positives: ACTUALLY REAL NEWS!!!\")\n",
        "for index in false_positives[:2]:\n",
        "    print(f\"Index: {index}, Text: {X_test.iloc[index]}\")\n",
        "    print()"
      ]
    },
    {
      "cell_type": "code",
      "execution_count": 52,
      "id": "1a-BQY6LBzwH",
      "metadata": {
        "id": "1a-BQY6LBzwH",
        "outputId": "d107c01e-e624-4411-e195-0402d305d564"
      },
      "outputs": [
        {
          "data": {
            "image/png": "[encoded data removed]",
            "text/plain": [
              "<Figure size 800x600 with 2 Axes>"
            ]
          },
          "metadata": {},
          "output_type": "display_data"
        }
      ],
      "source": [
        "# Generate the confusion matrix\n",
        "cm = confusion_matrix(y_test, predictions)\n",
        "\n",
        "# Plotting using seaborn\n",
        "plt.figure(figsize=(8, 6))\n",
        "sns.heatmap(cm, annot=True, fmt=\"d\", cmap=\"Blues\", xticklabels=[\"Real\", \"Fake\"], yticklabels=[\"Real\", \"Fake\"])\n",
        "plt.ylabel('Actual')\n",
        "plt.xlabel('Predicted')\n",
        "plt.title('Confusion Matrix')\n",
        "plt.show()\n"
      ]
    }
  ],
  "metadata": {
    "colab": {
      "provenance": []
    },
    "kernelspec": {
      "display_name": "Python 3 (ipykernel)",
      "language": "python",
      "name": "python3"
    },
    "language_info": {
      "codemirror_mode": {
        "name": "ipython",
        "version": 3
      },
      "file_extension": ".py",
      "mimetype": "text/x-python",
      "name": "python",
      "nbconvert_exporter": "python",
      "pygments_lexer": "ipython3",
      "version": "3.10.9"
    }
  },
  "nbformat": 4,
  "nbformat_minor": 5
}
