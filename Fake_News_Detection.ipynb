{
  "cells": [
    {
      "cell_type": "code",
      "execution_count": 70,
      "id": "0fa38f25-ce86-41a6-a1bb-b7d34bb91a0d",
      "metadata": {
        "id": "0fa38f25-ce86-41a6-a1bb-b7d34bb91a0d",
        "pycharm": {
          "name": "#%%\n"
        }
      },
      "outputs": [],
      "source": [
        "import numpy as np\n",
        "import pandas as pd\n",
        "from sklearn.model_selection import train_test_split\n",
        "from sklearn.feature_extraction.text import TfidfVectorizer\n",
        "from sklearn.svm import LinearSVC\n",
        "from sklearn.metrics import confusion_matrix\n",
        "import matplotlib.pyplot as plt\n",
        "import seaborn as sns\n",
        "import random"
      ]
    },
    {
      "cell_type": "code",
      "execution_count": 71,
      "id": "3eca8e7b-9d84-491b-a12d-aabf4a4661cd",
      "metadata": {
        "id": "3eca8e7b-9d84-491b-a12d-aabf4a4661cd",
        "pycharm": {
          "name": "#%%\n"
        }
      },
      "outputs": [],
      "source": [
        "data = pd.read_csv(\"fake_or_real_news.csv\")"
      ]
    },
    {
      "cell_type": "code",
      "execution_count": 72,
      "id": "8404f05c-847c-4d55-851e-22b5523217d5",
      "metadata": {
        "id": "8404f05c-847c-4d55-851e-22b5523217d5",
        "outputId": "be829e2b-e29e-49ea-e6e7-d473e4057466",
        "pycharm": {
          "name": "#%%\n"
        }
      },
      "outputs": [
        {
          "data": {
            "text/html": [
              "<div>\n",
              "<style scoped>\n",
              "    .dataframe tbody tr th:only-of-type {\n",
              "        vertical-align: middle;\n",
              "    }\n",
              "\n",
              "    .dataframe tbody tr th {\n",
              "        vertical-align: top;\n",
              "    }\n",
              "\n",
              "    .dataframe thead th {\n",
              "        text-align: right;\n",
              "    }\n",
              "</style>\n",
              "<table border=\"1\" class=\"dataframe\">\n",
              "  <thead>\n",
              "    <tr style=\"text-align: right;\">\n",
              "      <th></th>\n",
              "      <th>id</th>\n",
              "      <th>title</th>\n",
              "      <th>text</th>\n",
              "      <th>label</th>\n",
              "    </tr>\n",
              "  </thead>\n",
              "  <tbody>\n",
              "    <tr>\n",
              "      <th>0</th>\n",
              "      <td>8476</td>\n",
              "      <td>You Can Smell Hillary’s Fear</td>\n",
              "      <td>Daniel Greenfield, a Shillman Journalism Fello...</td>\n",
              "      <td>FAKE</td>\n",
              "    </tr>\n",
              "    <tr>\n",
              "      <th>1</th>\n",
              "      <td>10294</td>\n",
              "      <td>Watch The Exact Moment Paul Ryan Committed Pol...</td>\n",
              "      <td>Google Pinterest Digg Linkedin Reddit Stumbleu...</td>\n",
              "      <td>FAKE</td>\n",
              "    </tr>\n",
              "    <tr>\n",
              "      <th>2</th>\n",
              "      <td>3608</td>\n",
              "      <td>Kerry to go to Paris in gesture of sympathy</td>\n",
              "      <td>U.S. Secretary of State John F. Kerry said Mon...</td>\n",
              "      <td>REAL</td>\n",
              "    </tr>\n",
              "    <tr>\n",
              "      <th>3</th>\n",
              "      <td>10142</td>\n",
              "      <td>Bernie supporters on Twitter erupt in anger ag...</td>\n",
              "      <td>— Kaydee King (@KaydeeKing) November 9, 2016 T...</td>\n",
              "      <td>FAKE</td>\n",
              "    </tr>\n",
              "    <tr>\n",
              "      <th>4</th>\n",
              "      <td>875</td>\n",
              "      <td>The Battle of New York: Why This Primary Matters</td>\n",
              "      <td>It's primary day in New York and front-runners...</td>\n",
              "      <td>REAL</td>\n",
              "    </tr>\n",
              "    <tr>\n",
              "      <th>...</th>\n",
              "      <td>...</td>\n",
              "      <td>...</td>\n",
              "      <td>...</td>\n",
              "      <td>...</td>\n",
              "    </tr>\n",
              "    <tr>\n",
              "      <th>6330</th>\n",
              "      <td>4490</td>\n",
              "      <td>State Department says it can't find emails fro...</td>\n",
              "      <td>The State Department told the Republican Natio...</td>\n",
              "      <td>REAL</td>\n",
              "    </tr>\n",
              "    <tr>\n",
              "      <th>6331</th>\n",
              "      <td>8062</td>\n",
              "      <td>The ‘P’ in PBS Should Stand for ‘Plutocratic’ ...</td>\n",
              "      <td>The ‘P’ in PBS Should Stand for ‘Plutocratic’ ...</td>\n",
              "      <td>FAKE</td>\n",
              "    </tr>\n",
              "    <tr>\n",
              "      <th>6332</th>\n",
              "      <td>8622</td>\n",
              "      <td>Anti-Trump Protesters Are Tools of the Oligarc...</td>\n",
              "      <td>Anti-Trump Protesters Are Tools of the Oligar...</td>\n",
              "      <td>FAKE</td>\n",
              "    </tr>\n",
              "    <tr>\n",
              "      <th>6333</th>\n",
              "      <td>4021</td>\n",
              "      <td>In Ethiopia, Obama seeks progress on peace, se...</td>\n",
              "      <td>ADDIS ABABA, Ethiopia —President Obama convene...</td>\n",
              "      <td>REAL</td>\n",
              "    </tr>\n",
              "    <tr>\n",
              "      <th>6334</th>\n",
              "      <td>4330</td>\n",
              "      <td>Jeb Bush Is Suddenly Attacking Trump. Here's W...</td>\n",
              "      <td>Jeb Bush Is Suddenly Attacking Trump. Here's W...</td>\n",
              "      <td>REAL</td>\n",
              "    </tr>\n",
              "  </tbody>\n",
              "</table>\n",
              "<p>6335 rows × 4 columns</p>\n",
              "</div>"
            ],
            "text/plain": [
              "         id                                              title  \\\n",
              "0      8476                       You Can Smell Hillary’s Fear   \n",
              "1     10294  Watch The Exact Moment Paul Ryan Committed Pol...   \n",
              "2      3608        Kerry to go to Paris in gesture of sympathy   \n",
              "3     10142  Bernie supporters on Twitter erupt in anger ag...   \n",
              "4       875   The Battle of New York: Why This Primary Matters   \n",
              "...     ...                                                ...   \n",
              "6330   4490  State Department says it can't find emails fro...   \n",
              "6331   8062  The ‘P’ in PBS Should Stand for ‘Plutocratic’ ...   \n",
              "6332   8622  Anti-Trump Protesters Are Tools of the Oligarc...   \n",
              "6333   4021  In Ethiopia, Obama seeks progress on peace, se...   \n",
              "6334   4330  Jeb Bush Is Suddenly Attacking Trump. Here's W...   \n",
              "\n",
              "                                                   text label  \n",
              "0     Daniel Greenfield, a Shillman Journalism Fello...  FAKE  \n",
              "1     Google Pinterest Digg Linkedin Reddit Stumbleu...  FAKE  \n",
              "2     U.S. Secretary of State John F. Kerry said Mon...  REAL  \n",
              "3     — Kaydee King (@KaydeeKing) November 9, 2016 T...  FAKE  \n",
              "4     It's primary day in New York and front-runners...  REAL  \n",
              "...                                                 ...   ...  \n",
              "6330  The State Department told the Republican Natio...  REAL  \n",
              "6331  The ‘P’ in PBS Should Stand for ‘Plutocratic’ ...  FAKE  \n",
              "6332   Anti-Trump Protesters Are Tools of the Oligar...  FAKE  \n",
              "6333  ADDIS ABABA, Ethiopia —President Obama convene...  REAL  \n",
              "6334  Jeb Bush Is Suddenly Attacking Trump. Here's W...  REAL  \n",
              "\n",
              "[6335 rows x 4 columns]"
            ]
          },
          "execution_count": 72,
          "metadata": {},
          "output_type": "execute_result"
        }
      ],
      "source": [
        "data"
      ]
    },
    {
      "cell_type": "code",
      "execution_count": 73,
      "id": "b1b8b232-b221-4f54-8ac3-412faa79bb74",
      "metadata": {
        "id": "b1b8b232-b221-4f54-8ac3-412faa79bb74",
        "pycharm": {
          "name": "#%%\n"
        }
      },
      "outputs": [],
      "source": [
        "data['fake'] = data['label'].apply(lambda x: 0 if x == \"REAL\" else 1)\n",
        "data = data.drop(\"label\", axis=1)"
      ]
    },
    {
      "cell_type": "code",
      "execution_count": 74,
      "id": "928a6e91-a51f-4429-9f67-a9ea955da69b",
      "metadata": {
        "id": "928a6e91-a51f-4429-9f67-a9ea955da69b",
        "pycharm": {
          "name": "#%%\n"
        }
      },
      "outputs": [],
      "source": [
        "X, y = data[\"text\"], data[\"fake\"]\n",
        "\n",
        "X_train, X_test, y_train, y_test = train_test_split(X, y, test_size=0.2)"
      ]
    },
    {
      "cell_type": "markdown",
      "id": "cb83bc27-31df-490a-bc47-5b4a5dcf1937",
      "metadata": {
        "id": "cb83bc27-31df-490a-bc47-5b4a5dcf1937",
        "pycharm": {
          "name": "#%% md\n"
        }
      },
      "source": [
        "TF-IDF: Term Frequency - Inverse Document Frequency\n",
        "\n",
        "A metric that indicates how important a word is to a document in a collection. It weighs the improtance of each word in a document based on how often it appears in that document and how often it appears accross all documents in the collection.\n",
        "\n",
        "TF: Number of times a term t appears in a document\n",
        "IDF: Logarithm of total number of documents divided by no. of docs that contain term\n",
        "TF-IDF: TF * IDF\n",
        "\n",
        "Basically allows us to find the most relevant and distinctive words per document."
      ]
    },
    {
      "cell_type": "code",
      "execution_count": 75,
      "id": "398615cb-56f2-4811-9036-38962c401d47",
      "metadata": {
        "id": "398615cb-56f2-4811-9036-38962c401d47",
        "pycharm": {
          "name": "#%%\n"
        }
      },
      "outputs": [],
      "source": [
        "vectorizer = TfidfVectorizer(stop_words='english', max_df=0.7)\n",
        "X_train_vectorized = vectorizer.fit_transform(X_train)\n",
        "X_test_vectorized = vectorizer.transform(X_test)"
      ]
    },
    {
      "cell_type": "code",
      "execution_count": 76,
      "id": "77d5f2f4-7ad6-4f64-8a76-2d4cbb8976bb",
      "metadata": {
        "id": "77d5f2f4-7ad6-4f64-8a76-2d4cbb8976bb",
        "outputId": "98a7ca3f-46cb-4c27-e2b4-033c14188d11",
        "pycharm": {
          "name": "#%%\n"
        }
      },
      "outputs": [
        {
          "data": {
            "text/html": [
              "<style>#sk-container-id-5 {color: black;background-color: white;}#sk-container-id-5 pre{padding: 0;}#sk-container-id-5 div.sk-toggleable {background-color: white;}#sk-container-id-5 label.sk-toggleable__label {cursor: pointer;display: block;width: 100%;margin-bottom: 0;padding: 0.3em;box-sizing: border-box;text-align: center;}#sk-container-id-5 label.sk-toggleable__label-arrow:before {content: \"▸\";float: left;margin-right: 0.25em;color: #696969;}#sk-container-id-5 label.sk-toggleable__label-arrow:hover:before {color: black;}#sk-container-id-5 div.sk-estimator:hover label.sk-toggleable__label-arrow:before {color: black;}#sk-container-id-5 div.sk-toggleable__content {max-height: 0;max-width: 0;overflow: hidden;text-align: left;background-color: #f0f8ff;}#sk-container-id-5 div.sk-toggleable__content pre {margin: 0.2em;color: black;border-radius: 0.25em;background-color: #f0f8ff;}#sk-container-id-5 input.sk-toggleable__control:checked~div.sk-toggleable__content {max-height: 200px;max-width: 100%;overflow: auto;}#sk-container-id-5 input.sk-toggleable__control:checked~label.sk-toggleable__label-arrow:before {content: \"▾\";}#sk-container-id-5 div.sk-estimator input.sk-toggleable__control:checked~label.sk-toggleable__label {background-color: #d4ebff;}#sk-container-id-5 div.sk-label input.sk-toggleable__control:checked~label.sk-toggleable__label {background-color: #d4ebff;}#sk-container-id-5 input.sk-hidden--visually {border: 0;clip: rect(1px 1px 1px 1px);clip: rect(1px, 1px, 1px, 1px);height: 1px;margin: -1px;overflow: hidden;padding: 0;position: absolute;width: 1px;}#sk-container-id-5 div.sk-estimator {font-family: monospace;background-color: #f0f8ff;border: 1px dotted black;border-radius: 0.25em;box-sizing: border-box;margin-bottom: 0.5em;}#sk-container-id-5 div.sk-estimator:hover {background-color: #d4ebff;}#sk-container-id-5 div.sk-parallel-item::after {content: \"\";width: 100%;border-bottom: 1px solid gray;flex-grow: 1;}#sk-container-id-5 div.sk-label:hover label.sk-toggleable__label {background-color: #d4ebff;}#sk-container-id-5 div.sk-serial::before {content: \"\";position: absolute;border-left: 1px solid gray;box-sizing: border-box;top: 0;bottom: 0;left: 50%;z-index: 0;}#sk-container-id-5 div.sk-serial {display: flex;flex-direction: column;align-items: center;background-color: white;padding-right: 0.2em;padding-left: 0.2em;position: relative;}#sk-container-id-5 div.sk-item {position: relative;z-index: 1;}#sk-container-id-5 div.sk-parallel {display: flex;align-items: stretch;justify-content: center;background-color: white;position: relative;}#sk-container-id-5 div.sk-item::before, #sk-container-id-5 div.sk-parallel-item::before {content: \"\";position: absolute;border-left: 1px solid gray;box-sizing: border-box;top: 0;bottom: 0;left: 50%;z-index: -1;}#sk-container-id-5 div.sk-parallel-item {display: flex;flex-direction: column;z-index: 1;position: relative;background-color: white;}#sk-container-id-5 div.sk-parallel-item:first-child::after {align-self: flex-end;width: 50%;}#sk-container-id-5 div.sk-parallel-item:last-child::after {align-self: flex-start;width: 50%;}#sk-container-id-5 div.sk-parallel-item:only-child::after {width: 0;}#sk-container-id-5 div.sk-dashed-wrapped {border: 1px dashed gray;margin: 0 0.4em 0.5em 0.4em;box-sizing: border-box;padding-bottom: 0.4em;background-color: white;}#sk-container-id-5 div.sk-label label {font-family: monospace;font-weight: bold;display: inline-block;line-height: 1.2em;}#sk-container-id-5 div.sk-label-container {text-align: center;}#sk-container-id-5 div.sk-container {/* jupyter's `normalize.less` sets `[hidden] { display: none; }` but bootstrap.min.css set `[hidden] { display: none !important; }` so we also need the `!important` here to be able to override the default hidden behavior on the sphinx rendered scikit-learn.org. See: https://github.com/scikit-learn/scikit-learn/issues/21755 */display: inline-block !important;position: relative;}#sk-container-id-5 div.sk-text-repr-fallback {display: none;}</style><div id=\"sk-container-id-5\" class=\"sk-top-container\"><div class=\"sk-text-repr-fallback\"><pre>LinearSVC()</pre><b>In a Jupyter environment, please rerun this cell to show the HTML representation or trust the notebook. <br />On GitHub, the HTML representation is unable to render, please try loading this page with nbviewer.org.</b></div><div class=\"sk-container\" hidden><div class=\"sk-item\"><div class=\"sk-estimator sk-toggleable\"><input class=\"sk-toggleable__control sk-hidden--visually\" id=\"sk-estimator-id-5\" type=\"checkbox\" checked><label for=\"sk-estimator-id-5\" class=\"sk-toggleable__label sk-toggleable__label-arrow\">LinearSVC</label><div class=\"sk-toggleable__content\"><pre>LinearSVC()</pre></div></div></div></div></div>"
            ],
            "text/plain": [
              "LinearSVC()"
            ]
          },
          "execution_count": 76,
          "metadata": {},
          "output_type": "execute_result"
        }
      ],
      "source": [
        "clf = LinearSVC()  # Linear SVC is considered one of the best text classification algorithms\n",
        "clf.fit(X_train_vectorized, y_train)"
      ]
    },
    {
      "cell_type": "code",
      "execution_count": 77,
      "id": "e074b5ae-019d-40d8-be2c-b30b03baa0d9",
      "metadata": {
        "id": "e074b5ae-019d-40d8-be2c-b30b03baa0d9",
        "outputId": "de93004d-988d-4ceb-dc8e-e173c4be50f3",
        "pycharm": {
          "name": "#%%\n"
        }
      },
      "outputs": [
        {
          "data": {
            "text/plain": [
              "0.9368587213891081"
            ]
          },
          "execution_count": 77,
          "metadata": {},
          "output_type": "execute_result"
        }
      ],
      "source": [
        "clf.score(X_test_vectorized, y_test)"
      ]
    },
    {
      "cell_type": "code",
      "execution_count": 78,
      "id": "da1819a2-4185-46ca-a3eb-7f21fd607c04",
      "metadata": {
        "id": "da1819a2-4185-46ca-a3eb-7f21fd607c04",
        "pycharm": {
          "name": "#%%\n"
        }
      },
      "outputs": [],
      "source": [
        "article_text = X_test.iloc[10]\n",
        "vectorized_text = vectorizer.transform([article_text])"
      ]
    },
    {
      "cell_type": "code",
      "execution_count": 79,
      "id": "10dff146-93eb-4a14-a75f-61fa6afed777",
      "metadata": {
        "id": "10dff146-93eb-4a14-a75f-61fa6afed777",
        "outputId": "049ae8d3-79ba-4147-e8fd-01e5fc078857",
        "pycharm": {
          "name": "#%%\n"
        }
      },
      "outputs": [
        {
          "data": {
            "text/plain": [
              "array([0], dtype=int64)"
            ]
          },
          "execution_count": 79,
          "metadata": {},
          "output_type": "execute_result"
        }
      ],
      "source": [
        "clf.predict(vectorized_text)"
      ]
    },
    {
      "cell_type": "code",
      "execution_count": 80,
      "id": "6c20c502-4e67-443d-8e25-29ae3a77d1e0",
      "metadata": {
        "id": "6c20c502-4e67-443d-8e25-29ae3a77d1e0",
        "outputId": "1bb94a06-4821-4565-e77c-75f3b8d335f7",
        "pycharm": {
          "name": "#%%\n"
        }
      },
      "outputs": [
        {
          "data": {
            "text/plain": [
              "0"
            ]
          },
          "execution_count": 80,
          "metadata": {},
          "output_type": "execute_result"
        }
      ],
      "source": [
        "y_test.iloc[10]"
      ]
    },
    {
      "cell_type": "code",
      "execution_count": 81,
      "id": "LMmKqK6-BzwG",
      "metadata": {
        "id": "LMmKqK6-BzwG",
        "outputId": "c79fde6f-d7fa-4431-940c-678b185ce96f"
      },
      "outputs": [
        {
          "name": "stdout",
          "output_type": "stream",
          "text": [
            "The answer is correct.\n"
          ]
        }
      ],
      "source": [
        "# Generate a random index within the range of X_test\n",
        "random_index = random.randint(0, len(X_test) - 1)\n",
        "\n",
        "# Select a random article using the generated index\n",
        "article_text = X_test.iloc[random_index]\n",
        "vectorized_text = vectorizer.transform([article_text])\n",
        "\n",
        "# Predict\n",
        "predicted_value = clf.predict(vectorized_text)[0]\n",
        "\n",
        "# Actual value\n",
        "actual_value = y_test.iloc[random_index]\n",
        "\n",
        "# Comparison and output\n",
        "if predicted_value == actual_value:\n",
        "    print(\"The answer is correct.\")\n",
        "else:\n",
        "    print(\"The answer is incorrect.\")\n",
        "\n"
      ]
    },
    {
      "cell_type": "code",
      "execution_count": 82,
      "id": "Belrhu7ZBzwG",
      "metadata": {
        "id": "Belrhu7ZBzwG",
        "outputId": "768e09dc-7795-4e64-ca9c-2a3e2b8380b7"
      },
      "outputs": [
        {
          "name": "stdout",
          "output_type": "stream",
          "text": [
            "Index: 12, Predicted: 0, Actual: 1\n",
            "Text: U.S. militia girds for trouble as presidential election nears 11/02/2016 \n",
            "REUTERS \n",
            "Down a Georgia country road, camouflaged members of the Three Percent Security Force have mobilized for rifle practice, hand-to-hand combat training — and an impromptu campaign rally for Republican presidential candidate Donald Trump. \n",
            "“How many people are voting for Trump? Ooh-rah!” asks Chris Hill, a paralegal who goes by the code name “Bloodagent.” \n",
            "“Ooh-rah!” shout a dozen militia members in response, as morning sunlight sifted through the trees last weekend. \n",
            "As the most divisive presidential election in recent memory nears its conclusion, some armed militia groups are preparing for the possibility of a stolen election on Nov. 8 and civil unrest in the days following a victory by Democrat Hillary Clinton. \n",
            "They say they won’t fire the first shot, but they’re not planning to leave their guns at home, either. \n",
            "Trump’s populist campaign has energized militia members like Hill, who admire the Republican mogul’s promise to deport illegal immigrants, stop Muslims from entering the country and build a wall along the Mexico border. Trump has repeatedly warned that the election may be “rigged,” and has said he may not respect the results if he does not win. At least one paramilitary group, the Oath Keepers, has called on members to monitor voting sites for signs of fraud. \n",
            "Armed paramilitary groups first gained prominence in the early 1990s, fueled by confrontations in Ruby Ridge, Idaho and Waco, Texas, culminating in a militia sympathizer’s 1995 bombing of a federal office building in Oklahoma City that killed 168 people. \n",
            "Their numbers dwindled following that attack but have spiked in recent years, driven by fears that President Barack Obama will threaten gun ownership and erode the power of local government. The Southern Poverty Law Center, which tracks extremist groups, estimates there were 276 active militias last year, up from 42 in 2008. \n",
            "In recent years, armed groups have confronted federal authorities in a series of land-use disputes in the western United States. Federal officials fear more clashes could come after seven militants were acquitted on conspiracy charges for occupying a federal wildlife refuge in Oregon. \n",
            "Many fear Clinton would push the county further to the left. \n",
            "“This is the last chance to save America from ruin,” Hill said. “I’m surprised I was able to survive or suffer through eight years of Obama without literally going insane, but Hillary is going to be more of the same.” \n",
            "\n",
            "EXTREMIST GROUPS EMBOLDENED \n",
            "The Oath Keepers, a prominent anti-government force that sent gun-toting members to the 2014 race riots in Ferguson, Missouri, called on members last week to monitor voting sites on election day for any signs of fraud. \n",
            "An hour south of Atlanta, the Three Percent Security Force started the day around the campfire, taking turns shooting automatic pistols and rifles at a makeshift target range. They whooped with approval when blasts from one member’s high-powered rifle knocked down a tree. \n",
            "The group operates independently, but is affiliated with a national armed movement that calls for members to defend individual rights in the face of what they see as an overreaching federal government. The movement draws its name from the notion that no more than 3 percent of the American population fought in the Revolutionary War against Britain. \n",
            "Amid the war games, Hill weighed plans for a possible armed march on Washington if Clinton wins. \n",
            "He said he doesn’t want his members leading the way, but they will defend the protesters if need be. His group will not hesitate to act if a President Clinton tries to disarm gun owners, he said. \n",
            "“I will be there to render assistance to my fellow countrymen, and prevent them from being disarmed, and I will fight and I will kill and I may die in the process,” said Hill, who founded the militia several years ago. \n",
            "Trump’s candidacy has emboldened extremist groups to speak more openly about challenging the rule of law, said Ryan Lenz, a researcher at the Southern Poverty Law Center. \n",
            "“Prior to this campaign season, these ideas were relegated to sort of the political fringe of the American political landscape,” he said. “Now these ideas are legitimized.” \n",
            "Over the past week, some prominent Trump supporters have hinted at violence. \n",
            "“If Trump loses, I’m grabbing my musket,” former Illinois Representative Joe Walsh wrote on Twitter last week. Conservative commentator Wayne Root fantasized about Clinton’s death while speaking at a Trump rally in Las Vegas on Sunday. \n",
            "Back in Georgia, the Three Percent Security Force wrapped up rifle practice in the midday sun. They then headed further into the trees to tackle an obstacle course with loaded pistols at their sides, ready for whatever may come. \n",
            "“We’ve building up for this, just like the Marines,” he said. “We are going to really train harder and try to increase our operational capabilities in the event that this is the day that we hoped would never come.” Share On:\n",
            "\n",
            "Index: 39, Predicted: 1, Actual: 0\n",
            "Text: George Washington was the first President of the United States, serving from 1789 to 1797. He also served as commander-in-chief of the Continental Army, and he has the distinction of being the only President unanimously elected by the Electoral College.\n",
            "\n",
            "The second U.S. President, John Adams, served from 1797 to 1801. He was also the first vice president of the United States, and he was the first President to reside in the White House, moving in on November 1, 1800, while the White House was still under construction.\n",
            "\n",
            "James Monroe (1817-1825) was the last of the Founding Fathers to be elected President. During his seventh State of the Union address, he outlined a foreign policy that warned European powers against further colonization of or meddling in the Western Hemisphere. This was later known as the Monroe Doctrine.\n",
            "\n",
            "Andrew Jackson (1829-1837) was the only President to serve in both the American Revolution and the War of 1812. He is also the only President to have been a former prisoner of war: Jackson was 13 when became a courier during the Revolutionary War, and he was later captured by the British.\n",
            "\n",
            "William Henry Harrison (1841) probably had only just finished unpacking his things at the White House when he died of pneumonia one month into his term. Harrison was the first U.S. President to die while in office, and he had the shortest tenure ever of any commander-in-chief.\n",
            "\n",
            "John Tyler's term (1841-1845) saw several presidential firsts. He was the first vice president to succeed office after the President died, he was the first to lose his wife while in office, and he was the first to marry while in office.\n",
            "\n",
            "Zachary Taylor (1849-1850), aka \"Old Rough and Ready,\" was a hero in the Mexican-American War. Mystery surrounds his actual cause of death from a stomach ailment. Did he just eat too many cherries, or was it murder? The 1991 exhumation of his body proved it wasn't arsenic poisoning at least.\n",
            "\n",
            "Franklin Pierce (1853-1857) was the first President to not get his party's nomination for re-election. He signed the controversial Kansas-Nebraska Act, which allowed the people there to decide whether to allow slavery. This worsened the tension between the North and South.\n",
            "\n",
            "Just four months into his term, James Garfield (1881) was shot by a disgruntled lawyer who'd aspired to join the administration as a diplomat. The President was taken to the Jersey Shore, where doctors hoped the ocean air would help him recover. He died two weeks later.\n",
            "\n",
            "Woodrow Wilson (1913-1921) was awarded the 1919 Nobel Peace Prize for proposing and creating the League of Nations. But he was never able to convince the United States to join. Although he was first opposed to a federal amendment allowing women to vote, Wilson shifted his position during his second term and the 19th Amendment was ratified in 1920.\n",
            "\n",
            "Herbert Hoover (1929-1933) was inaugurated on the year of the stock market crash that sent the country into the Great Depression. Although Hoover pushed for money to be appropriated for large-scale projects, he opposed federal relief payments directly to individuals. The national economy never recovered during his term, and the shantytowns that developed were nicknamed \"Hoovervilles.\"\n",
            "\n",
            "Franklin D. Roosevelt (1933-1945) was the only President elected to the office four times. During his 12 years as President, he championed numerous social programs and measures, including the creation of the Tennessee Valley Authority, the Civilian Conservation Corps and Social Security. Roosevelt contracted polio at age 39 and never recovered the use of his legs.\n",
            "\n",
            "John F. Kennedy (1961-1963) was the first Roman Catholic President. He was assassinated in his first term, which was marked by the signing of the Nuclear Test-Ban Treaty, the creation of the Peace Corps, the disastrous Bay of Pigs invasion, and the beginning of military involvement in Vietnam.\n",
            "\n",
            "Jimmy Carter (1977-1981) brokered the 1978 Camp David Accords, the agreement that led to a peace treaty between Israel and Egypt. At home, Carter's presidency was plagued by inflation and unemployment, and he lost his bid for a second term amid the hostage crisis in Iran.\n",
            "\n",
            "Ronald Reagan (1981-1989) was the only actor ever elected President, and his talent as a speaker earned him the moniker \"the great communicator.\" An affable Republican who wooed many Roosevelt Democrats, the staunchly anti-communist Reagan is seen as having played a large part in the collapse of the Soviet Union.\n",
            "\n",
            "George H.W. Bush (1989-1993) was a former CIA director and served two terms as vice president under Ronald Reagan. His approval rating at home soared after he led an international coalition to oust Iraq from Kuwait, and communism in Eastern Europe fell on his watch. But he lost his bid for re-election amid a sluggish economy and after reneging on a promise not to raise taxes.\n",
            "\n",
            "Bill Clinton (1993-2001) ran on the slogan, \"It's the economy, stupid.\" Plagued by various scandals -- including accusations of sexual impropriety -- he was the second president to be impeached. He was acquitted in 1999.\n",
            "\n",
            "George W. Bush (2001-2009) is the son of former President George H.W. Bush. His presidency was largely defined by his response to the 9/11 terrorist attacks. In 2003, he ordered the invasion of Iraq on suspicion that Saddam Hussein had weapons of mass destruction.\n",
            "\n",
            "Barack Obama (2009-2017) became the first African-American to hold the office of President. He took the oath of office amid the Great Recession, the biggest economic challenge since the Great Depression. Under the Affordable Healthcare Act, millions of uninsured Americans have gotten health insurance.\n",
            "\n"
          ]
        }
      ],
      "source": [
        "# Predict for the entire test set\n",
        "predictions = clf.predict(X_test_vectorized)\n",
        "\n",
        "# Convert predictions and actual labels to arrays for easier comparison\n",
        "predictions_array = np.array(predictions)\n",
        "actual_labels_array = y_test.to_numpy()\n",
        "\n",
        "# Find indices where predictions and actual labels differ\n",
        "mismatch_indices = np.where(predictions_array != actual_labels_array)[0]\n",
        "\n",
        "# Print first 2 mismatches with its index\n",
        "for index in mismatch_indices[:2]:\n",
        "    print(f\"Index: {index}, Predicted: {predictions_array[index]}, Actual: {actual_labels_array[index]}\")\n",
        "    print(f\"Text: {X_test.iloc[index]}\\n\")\n"
      ]
    },
    {
      "cell_type": "code",
      "execution_count": 83,
      "id": "7CQEhSt5BzwG",
      "metadata": {
        "id": "7CQEhSt5BzwG"
      },
      "outputs": [],
      "source": [
        "# Predict for the entire test set\n",
        "predictions = clf.predict(X_test_vectorized)\n",
        "\n",
        "# Convert predictions and actual labels to arrays for easier comparison\n",
        "predictions_array = np.array(predictions)\n",
        "actual_labels_array = y_test.to_numpy()\n",
        "\n",
        "# Initialize lists for false negatives and false positives\n",
        "false_negatives = []\n",
        "false_positives = []\n",
        "\n",
        "# Iterate over the predictions and actual labels\n",
        "for i in range(len(predictions_array)):\n",
        "    if predictions_array[i] == 0 and actual_labels_array[i] == 1:\n",
        "        # False Negative\n",
        "        false_negatives.append(i)\n",
        "    elif predictions_array[i] == 1 and actual_labels_array[i] == 0:\n",
        "        # False Positive\n",
        "        false_positives.append(i)"
      ]
    },
    {
      "cell_type": "code",
      "execution_count": 84,
      "id": "LNAOCkz5BzwG",
      "metadata": {
        "id": "LNAOCkz5BzwG",
        "outputId": "423e7bcc-04b9-4cbe-d63b-a43ca40805f9"
      },
      "outputs": [
        {
          "name": "stdout",
          "output_type": "stream",
          "text": [
            "False Negatives: ACTUALLY FAKE NEWS!!!\n",
            "\n",
            "\n",
            "Index: 12, Text: U.S. militia girds for trouble as presidential election nears 11/02/2016 \n",
            "REUTERS \n",
            "Down a Georgia country road, camouflaged members of the Three Percent Security Force have mobilized for rifle practice, hand-to-hand combat training — and an impromptu campaign rally for Republican presidential candidate Donald Trump. \n",
            "“How many people are voting for Trump? Ooh-rah!” asks Chris Hill, a paralegal who goes by the code name “Bloodagent.” \n",
            "“Ooh-rah!” shout a dozen militia members in response, as morning sunlight sifted through the trees last weekend. \n",
            "As the most divisive presidential election in recent memory nears its conclusion, some armed militia groups are preparing for the possibility of a stolen election on Nov. 8 and civil unrest in the days following a victory by Democrat Hillary Clinton. \n",
            "They say they won’t fire the first shot, but they’re not planning to leave their guns at home, either. \n",
            "Trump’s populist campaign has energized militia members like Hill, who admire the Republican mogul’s promise to deport illegal immigrants, stop Muslims from entering the country and build a wall along the Mexico border. Trump has repeatedly warned that the election may be “rigged,” and has said he may not respect the results if he does not win. At least one paramilitary group, the Oath Keepers, has called on members to monitor voting sites for signs of fraud. \n",
            "Armed paramilitary groups first gained prominence in the early 1990s, fueled by confrontations in Ruby Ridge, Idaho and Waco, Texas, culminating in a militia sympathizer’s 1995 bombing of a federal office building in Oklahoma City that killed 168 people. \n",
            "Their numbers dwindled following that attack but have spiked in recent years, driven by fears that President Barack Obama will threaten gun ownership and erode the power of local government. The Southern Poverty Law Center, which tracks extremist groups, estimates there were 276 active militias last year, up from 42 in 2008. \n",
            "In recent years, armed groups have confronted federal authorities in a series of land-use disputes in the western United States. Federal officials fear more clashes could come after seven militants were acquitted on conspiracy charges for occupying a federal wildlife refuge in Oregon. \n",
            "Many fear Clinton would push the county further to the left. \n",
            "“This is the last chance to save America from ruin,” Hill said. “I’m surprised I was able to survive or suffer through eight years of Obama without literally going insane, but Hillary is going to be more of the same.” \n",
            "\n",
            "EXTREMIST GROUPS EMBOLDENED \n",
            "The Oath Keepers, a prominent anti-government force that sent gun-toting members to the 2014 race riots in Ferguson, Missouri, called on members last week to monitor voting sites on election day for any signs of fraud. \n",
            "An hour south of Atlanta, the Three Percent Security Force started the day around the campfire, taking turns shooting automatic pistols and rifles at a makeshift target range. They whooped with approval when blasts from one member’s high-powered rifle knocked down a tree. \n",
            "The group operates independently, but is affiliated with a national armed movement that calls for members to defend individual rights in the face of what they see as an overreaching federal government. The movement draws its name from the notion that no more than 3 percent of the American population fought in the Revolutionary War against Britain. \n",
            "Amid the war games, Hill weighed plans for a possible armed march on Washington if Clinton wins. \n",
            "He said he doesn’t want his members leading the way, but they will defend the protesters if need be. His group will not hesitate to act if a President Clinton tries to disarm gun owners, he said. \n",
            "“I will be there to render assistance to my fellow countrymen, and prevent them from being disarmed, and I will fight and I will kill and I may die in the process,” said Hill, who founded the militia several years ago. \n",
            "Trump’s candidacy has emboldened extremist groups to speak more openly about challenging the rule of law, said Ryan Lenz, a researcher at the Southern Poverty Law Center. \n",
            "“Prior to this campaign season, these ideas were relegated to sort of the political fringe of the American political landscape,” he said. “Now these ideas are legitimized.” \n",
            "Over the past week, some prominent Trump supporters have hinted at violence. \n",
            "“If Trump loses, I’m grabbing my musket,” former Illinois Representative Joe Walsh wrote on Twitter last week. Conservative commentator Wayne Root fantasized about Clinton’s death while speaking at a Trump rally in Las Vegas on Sunday. \n",
            "Back in Georgia, the Three Percent Security Force wrapped up rifle practice in the midday sun. They then headed further into the trees to tackle an obstacle course with loaded pistols at their sides, ready for whatever may come. \n",
            "“We’ve building up for this, just like the Marines,” he said. “We are going to really train harder and try to increase our operational capabilities in the event that this is the day that we hoped would never come.” Share On:\n",
            "\n",
            "Index: 159, Text: 4 Replies \n",
            "Jonathan Turley – It appears that that “ basket of deplorables ” was a bit larger than Hillary Clinton expected. I was up to 4 am at Fox participating in the coverage of the election from New York. This was my fourth such presidential election as part a media team and it was fascinating to watch [results] unfold at the campaign headquarters at Fox. \n",
            "History will judge the decisions of Democrats leaders in this election. As I have previously written, the Democratic National Committee and establishment (including allies in the media) did everything they could to engineer the election of Hillary Clinton. While they had an extremely popular candidate in Bernie Sanders as well as Vice President Joe Biden, they insisted on advancing Clinton despite her being deeply disliked and the ultimate symbol of the establishment that the public was rallying against. \n",
            "As the close race indicated, the selection of a Sanders or Biden would have likely produced a sweep of both the White House and the Senate for the Democrats. Instead, they lost them both by forcing voters to vote for someone with record negatives. \n",
            "Voters were clear that they did not want Clinton, but the Democrats assumed that the “lesser of two evils” approach would again prevail. They were wrong. Many people voted for third party candidates and many people on the fence refused to pick the candidate most associated with the establishment and the status quo. \n",
            "I expect that history will judge the work of figures like Debbie Wasserman-Shultz and Donna Brazile harshly in the roles that they played and more generally in the failure of Democratic leaders to heed the clear demand from voters for a change in leadership. Hillary Clinton was a talented and historic nominee. However, she was also the very symbol of the establishment and heavily laden with the type of associations that the public was clearly reacting against. \n",
            "The wins in Wisconsin, Michigan and Pennsylvania shows precisely how reckless and cynical the DNC strategy proved to be. Clinton won only 18 states and the District of Columbia, though it did earn her 242 electoral votes. Now for the first time in decades, the Democrats have handed a Republican president both houses of Congress. They solved gridlock but not in the way that they had hoped. \n",
            "I was astonished to see Clinton decline to speak to her supporters who had wait so loyally at their campaign headquarters. While she did concede over the telephone to Trump, I thought it was bad form not to come down to the headquarters and address the nation and her supporters. They worked incredibly hard and the loss was a terrible blow for them. They deserved better in my view and I felt truly sorry for both their disappointment and effective abandonment at that moment. \n",
            "Looking at the results coming into the headquarters, it was clear that no further “counting” would change the result as Clinton’s telephone call affirmed a short while later. It is the final obligation of a candidate in a presidential campaign to be with your supporters and show the nation that the transition of power would proceed, as it always has, in an orderly fashion. It was highly ironic given the well-founded criticism of the statement of Trump that he might not accept the results of the election — a view driven home by Chris Wallace (who was the gold standard for moderators in these election debates). \n",
            "The greatest loser in this election was the mainstream media. As I previously discussed , I believe that Trump did bring much of the negative coverage on himself. However, I saw many journalists discard any semblance of neutrality in their coverage, as vividly shown in Wikileaks emails of coordination with the Clinton campaign. The priority for the media should be a serious reexamination of its coverage in this election. \n",
            "In the end, the public wanted change and they got it. The fact is that many of the public has long felt that they no longer controlled their government and they were right. That is what makes this so revolutionary and transformative for American politics. Whatever a Trump Administration may hold, it will be shock to the system and that is precisely what tens of millions of Americans wanted. SF Source Jonathan Turley  \n",
            "\n"
          ]
        }
      ],
      "source": [
        "# Print False Negatives\n",
        "print(\"False Negatives: ACTUALLY FAKE NEWS!!!\")\n",
        "print()\n",
        "print()\n",
        "# First 2 False Negatives\n",
        "for index in false_negatives[:2]:\n",
        "    print(f\"Index: {index}, Text: {X_test.iloc[index]}\")\n",
        "    print()\n"
      ]
    },
    {
      "cell_type": "code",
      "execution_count": 85,
      "id": "ftXNIK-HBzwH",
      "metadata": {
        "id": "ftXNIK-HBzwH",
        "outputId": "626cf65a-f1b7-4248-f599-ecdd203f7df7"
      },
      "outputs": [
        {
          "name": "stdout",
          "output_type": "stream",
          "text": [
            "\n",
            "False Positives: ACTUALLY REAL NEWS!!!\n",
            "\n",
            "\n",
            "Index: 39, Text: George Washington was the first President of the United States, serving from 1789 to 1797. He also served as commander-in-chief of the Continental Army, and he has the distinction of being the only President unanimously elected by the Electoral College.\n",
            "\n",
            "The second U.S. President, John Adams, served from 1797 to 1801. He was also the first vice president of the United States, and he was the first President to reside in the White House, moving in on November 1, 1800, while the White House was still under construction.\n",
            "\n",
            "James Monroe (1817-1825) was the last of the Founding Fathers to be elected President. During his seventh State of the Union address, he outlined a foreign policy that warned European powers against further colonization of or meddling in the Western Hemisphere. This was later known as the Monroe Doctrine.\n",
            "\n",
            "Andrew Jackson (1829-1837) was the only President to serve in both the American Revolution and the War of 1812. He is also the only President to have been a former prisoner of war: Jackson was 13 when became a courier during the Revolutionary War, and he was later captured by the British.\n",
            "\n",
            "William Henry Harrison (1841) probably had only just finished unpacking his things at the White House when he died of pneumonia one month into his term. Harrison was the first U.S. President to die while in office, and he had the shortest tenure ever of any commander-in-chief.\n",
            "\n",
            "John Tyler's term (1841-1845) saw several presidential firsts. He was the first vice president to succeed office after the President died, he was the first to lose his wife while in office, and he was the first to marry while in office.\n",
            "\n",
            "Zachary Taylor (1849-1850), aka \"Old Rough and Ready,\" was a hero in the Mexican-American War. Mystery surrounds his actual cause of death from a stomach ailment. Did he just eat too many cherries, or was it murder? The 1991 exhumation of his body proved it wasn't arsenic poisoning at least.\n",
            "\n",
            "Franklin Pierce (1853-1857) was the first President to not get his party's nomination for re-election. He signed the controversial Kansas-Nebraska Act, which allowed the people there to decide whether to allow slavery. This worsened the tension between the North and South.\n",
            "\n",
            "Just four months into his term, James Garfield (1881) was shot by a disgruntled lawyer who'd aspired to join the administration as a diplomat. The President was taken to the Jersey Shore, where doctors hoped the ocean air would help him recover. He died two weeks later.\n",
            "\n",
            "Woodrow Wilson (1913-1921) was awarded the 1919 Nobel Peace Prize for proposing and creating the League of Nations. But he was never able to convince the United States to join. Although he was first opposed to a federal amendment allowing women to vote, Wilson shifted his position during his second term and the 19th Amendment was ratified in 1920.\n",
            "\n",
            "Herbert Hoover (1929-1933) was inaugurated on the year of the stock market crash that sent the country into the Great Depression. Although Hoover pushed for money to be appropriated for large-scale projects, he opposed federal relief payments directly to individuals. The national economy never recovered during his term, and the shantytowns that developed were nicknamed \"Hoovervilles.\"\n",
            "\n",
            "Franklin D. Roosevelt (1933-1945) was the only President elected to the office four times. During his 12 years as President, he championed numerous social programs and measures, including the creation of the Tennessee Valley Authority, the Civilian Conservation Corps and Social Security. Roosevelt contracted polio at age 39 and never recovered the use of his legs.\n",
            "\n",
            "John F. Kennedy (1961-1963) was the first Roman Catholic President. He was assassinated in his first term, which was marked by the signing of the Nuclear Test-Ban Treaty, the creation of the Peace Corps, the disastrous Bay of Pigs invasion, and the beginning of military involvement in Vietnam.\n",
            "\n",
            "Jimmy Carter (1977-1981) brokered the 1978 Camp David Accords, the agreement that led to a peace treaty between Israel and Egypt. At home, Carter's presidency was plagued by inflation and unemployment, and he lost his bid for a second term amid the hostage crisis in Iran.\n",
            "\n",
            "Ronald Reagan (1981-1989) was the only actor ever elected President, and his talent as a speaker earned him the moniker \"the great communicator.\" An affable Republican who wooed many Roosevelt Democrats, the staunchly anti-communist Reagan is seen as having played a large part in the collapse of the Soviet Union.\n",
            "\n",
            "George H.W. Bush (1989-1993) was a former CIA director and served two terms as vice president under Ronald Reagan. His approval rating at home soared after he led an international coalition to oust Iraq from Kuwait, and communism in Eastern Europe fell on his watch. But he lost his bid for re-election amid a sluggish economy and after reneging on a promise not to raise taxes.\n",
            "\n",
            "Bill Clinton (1993-2001) ran on the slogan, \"It's the economy, stupid.\" Plagued by various scandals -- including accusations of sexual impropriety -- he was the second president to be impeached. He was acquitted in 1999.\n",
            "\n",
            "George W. Bush (2001-2009) is the son of former President George H.W. Bush. His presidency was largely defined by his response to the 9/11 terrorist attacks. In 2003, he ordered the invasion of Iraq on suspicion that Saddam Hussein had weapons of mass destruction.\n",
            "\n",
            "Barack Obama (2009-2017) became the first African-American to hold the office of President. He took the oath of office amid the Great Recession, the biggest economic challenge since the Great Depression. Under the Affordable Healthcare Act, millions of uninsured Americans have gotten health insurance.\n",
            "\n",
            "Index: 52, Text: In new \"interim guidance\" — published today in the journal Obstetrics & Gynecology — experts from influential medical groups such as the American Society for Colposcopy and Cervical Pathology and the Society of Gynecologic Oncology argue that doctors should consider replacing the Pap smear with the HPV (human papillomavirus) test in women ages 25 to 65.\n",
            "\n",
            "The Pap smear would still be the primary screening method in women under 25, and would be used to look for irregular cells in some older women who get a positive result from the HPV test.\n",
            "\n",
            "This is a change from the current guidelines, which recommend Pap smears alone at three year intervals for women under 30, or the additional option of \"co-testing\" with both the Pap and HPV test at five year intervals for women ages 30 to 65.\n",
            "\n",
            "The rationale is that we now know most all cervical cancers (between 90 and 99 percent) are caused by HPV. This more sensitive test will detect more cancer in women and potentially save lives.\n",
            "\n",
            "Our concern is that there’s a lot of cervical cancer that's being missed on the Pap test \"In women who have a negative [HPV test] result,\" said lead author on the interim guidance Dr. Warner Huh, \"their risk of developing cancer is extraordinarily small over a three year window. You can't make that same claim with a Pap test. We know the false-negative rate for a Pap test is about 50 percent. It's a coin toss.\n",
            "\n",
            "\"Our concern is that there’s a lot of cervical cancer and pre-cancer that's being missed on the Pap test.\"\n",
            "\n",
            "But not everybody agrees with the new approach. The main point of contention is this: not all HPV actually leads to cancer — a lot of it is benign and clears up without any treatment at all — so expanded use of the HPV test could lead more \"false positives,\" or women being treated for cancers that would have never harmed them.\n",
            "\n",
            "\"So many women get HPV who will never, ever get cancer,\" Diana Zuckerman, head of the National Center for Health Research, told NPR.\n",
            "\n",
            "The new interim guidance also drops the age for HPV testing from 30 to 25, which could theoretically lead to more unnecessary testing and treatment among young women.\n",
            "\n",
            "Dr. Huh's group believes the benefit-harms ratio lies in favor of earlier and more aggressive HPV screening.\n",
            "\n",
            "\"We fully recognize that [detecting more HPV] substantially increases the number of procedures that will be required, like colposcopies,\" he said. \"But we felt that increased disease protection would be meaningfully important to women and health-care providers.\"\n",
            "\n",
            "He explained that the group convened to come up with the new advice after a Food and Drug Administration panel suggested last year that a new HPV test become the standard of care for women. For now, the interim guidance is meant to guide doctors' and patients' decision-making until new, official guidelines arrive in the next few years.\n",
            "\n",
            "Until then, here is what you should know about Pap tests and HPV tests:\n",
            "\n",
            "Pap smears have been the primary cervical-cancer test for women for decades. The test was invented in the US in 1941 by none other than George Papanicolaou. (Weird fact: He actually established the technique by examining vaginal debris from guinea pigs and then translated that knowledge to humans.) \n",
            "\n",
            "\n",
            "\n",
            "At the time, it was a game changer and model for cancer screening: it was the first effort to detect early cancer and it turned cervical cancer into a largely curable disease.\n",
            "\n",
            "\n",
            "\n",
            "But the test isn't perfect. It involves scraping the walls of the cervix and vagina for cells, which are placed on a slide and sent off to cytologists who look for abnormalities under microscopes. Sometimes the doctor doesn't scrape the area of the cervix where bad cells are harbored, sometimes she doesn't transfer them to the slide properly.\n",
            "\n",
            "That's why the doctors who drafted the interim guidance about the HPV test (and the FDA panel last year) are pushing for expanded use of the new test.\n",
            "\n",
            "\"We know the Pap test is not very reproducible. If you get a Pap test, three different pathologists will give you three different interpretations of the results,\" said Dr. Huh. \"The HPV test is either positive or negative, like a pregnancy test.\"\n",
            "\n",
            "According to the current guidelines, women ages 30 and above (or 25, according to the interim guidance) should consider another option: the HPV test.\n",
            "\n",
            "The HPV test works like a Pap test. Doctors use a speculum to open the vaginal canal and reach the cervix, and then they gently scrape the cervical canal to collect a cell sample.\n",
            "\n",
            "The difference, however, is how the sample is screened. The HPV tests looks for the presence of the virus, not abnormal cells. And the bottom line about the HPV test is this: it's more sensitive than Pap smears at catching cancer-causing HPV, meaning it can more accurately detect the virus.\n",
            "\n",
            "The authors of the interim guidance want to see this test used first in women ages 25 to 65. Then, for women who test positive for some strains of HPV, they want the Pap test used second to detect whether the HPV is associated with cell abnormalities in the cervix.\n",
            "\n",
            "But, again, there is a risk here and one that the medical community will be debating: whether 25 is too young to start routinely screening women for HPV. That's because HPV is not always deadly, and in most women, clears within a year or two. Running this ultra sensitive test at an earlier age could mean sending patients into tests and treatments that will have no positive impact on their lives or health outcomes. (For this reason, until now, doctors have said this test has a \"low predictive value\" for cervical cancer in women under 30.)\n",
            "\n",
            "Until more consensus emerges in the medical community about a new age cut off, if you're between 25 and 30, you might want to talk to your doctor about getting an HPV test.\n",
            "\n",
            "If you're over 30, the current guidelines already recommend \"co-testing\" or getting both the HPV and Pap test at the same time. That's because HPV in older women is more likely to be related to cell abnormalities that could become cancerous. So having a sensitive test is a good thing.\n",
            "\n",
            "Whatever approach you chose with your doctor, remember that getting any sort of screening is the most important first step.\n",
            "\n",
            "\"At least half of the cases of cervical cancer in the US occur because women have not had appropriate screening or follow-up,\" said Dr. Michael LeFevre, who chairs the U.S. Preventive Services Task Force.\n",
            "\n"
          ]
        }
      ],
      "source": [
        "# Print False Positives\n",
        "print(\"\\nFalse Positives: ACTUALLY REAL NEWS!!!\")\n",
        "print()\n",
        "print()\n",
        "# First 2 False Positives\n",
        "for index in false_positives[:2]:\n",
        "    print(f\"Index: {index}, Text: {X_test.iloc[index]}\")\n",
        "    print()\n"
      ]
    },
    {
      "cell_type": "code",
      "execution_count": 86,
      "id": "1a-BQY6LBzwH",
      "metadata": {
        "id": "1a-BQY6LBzwH",
        "outputId": "d107c01e-e624-4411-e195-0402d305d564"
      },
      "outputs": [
        {
          "data": {
            "image/png": "[encoded data removed]",
            "text/plain": [
              "<Figure size 800x600 with 2 Axes>"
            ]
          },
          "metadata": {},
          "output_type": "display_data"
        }
      ],
      "source": [
        "# Generate the confusion matrix\n",
        "cm = confusion_matrix(y_test, predictions)\n",
        "\n",
        "# Plotting using seaborn\n",
        "plt.figure(figsize=(8, 6))\n",
        "sns.heatmap(cm, annot=True, fmt=\"d\", cmap=\"Blues\", xticklabels=[\"Real\", \"Fake\"], yticklabels=[\"Real\", \"Fake\"])\n",
        "plt.ylabel('Actual')\n",
        "plt.xlabel('Predicted')\n",
        "plt.title('Confusion Matrix')\n",
        "plt.show()\n"
      ]
    }
  ],
  "metadata": {
    "colab": {
      "provenance": []
    },
    "kernelspec": {
      "display_name": "Python 3 (ipykernel)",
      "language": "python",
      "name": "python3"
    },
    "language_info": {
      "codemirror_mode": {
        "name": "ipython",
        "version": 3
      },
      "file_extension": ".py",
      "mimetype": "text/x-python",
      "name": "python",
      "nbconvert_exporter": "python",
      "pygments_lexer": "ipython3",
      "version": "3.10.9"
    }
  },
  "nbformat": 4,
  "nbformat_minor": 5
}
