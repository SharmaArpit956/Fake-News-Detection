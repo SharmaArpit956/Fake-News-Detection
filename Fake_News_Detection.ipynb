{
  "cells": [
    {
      "cell_type": "code",
      "execution_count": 87,
      "id": "0fa38f25-ce86-41a6-a1bb-b7d34bb91a0d",
      "metadata": {
        "id": "0fa38f25-ce86-41a6-a1bb-b7d34bb91a0d",
        "pycharm": {
          "name": "#%%\n"
        }
      },
      "outputs": [],
      "source": [
        "import numpy as np\n",
        "import pandas as pd\n",
        "from sklearn.model_selection import train_test_split\n",
        "from sklearn.feature_extraction.text import TfidfVectorizer\n",
        "from sklearn.svm import LinearSVC\n",
        "from sklearn.metrics import confusion_matrix\n",
        "import matplotlib.pyplot as plt\n",
        "import seaborn as sns\n",
        "import random"
      ]
    },
    {
      "cell_type": "code",
      "execution_count": 88,
      "id": "3eca8e7b-9d84-491b-a12d-aabf4a4661cd",
      "metadata": {
        "id": "3eca8e7b-9d84-491b-a12d-aabf4a4661cd",
        "pycharm": {
          "name": "#%%\n"
        }
      },
      "outputs": [],
      "source": [
        "data = pd.read_csv(\"fake_or_real_news.csv\")"
      ]
    },
    {
      "cell_type": "code",
      "execution_count": 89,
      "id": "8404f05c-847c-4d55-851e-22b5523217d5",
      "metadata": {
        "id": "8404f05c-847c-4d55-851e-22b5523217d5",
        "outputId": "be829e2b-e29e-49ea-e6e7-d473e4057466",
        "pycharm": {
          "name": "#%%\n"
        }
      },
      "outputs": [
        {
          "data": {
            "text/html": [
              "<div>\n",
              "<style scoped>\n",
              "    .dataframe tbody tr th:only-of-type {\n",
              "        vertical-align: middle;\n",
              "    }\n",
              "\n",
              "    .dataframe tbody tr th {\n",
              "        vertical-align: top;\n",
              "    }\n",
              "\n",
              "    .dataframe thead th {\n",
              "        text-align: right;\n",
              "    }\n",
              "</style>\n",
              "<table border=\"1\" class=\"dataframe\">\n",
              "  <thead>\n",
              "    <tr style=\"text-align: right;\">\n",
              "      <th></th>\n",
              "      <th>id</th>\n",
              "      <th>title</th>\n",
              "      <th>text</th>\n",
              "      <th>label</th>\n",
              "    </tr>\n",
              "  </thead>\n",
              "  <tbody>\n",
              "    <tr>\n",
              "      <th>0</th>\n",
              "      <td>8476</td>\n",
              "      <td>You Can Smell Hillary’s Fear</td>\n",
              "      <td>Daniel Greenfield, a Shillman Journalism Fello...</td>\n",
              "      <td>FAKE</td>\n",
              "    </tr>\n",
              "    <tr>\n",
              "      <th>1</th>\n",
              "      <td>10294</td>\n",
              "      <td>Watch The Exact Moment Paul Ryan Committed Pol...</td>\n",
              "      <td>Google Pinterest Digg Linkedin Reddit Stumbleu...</td>\n",
              "      <td>FAKE</td>\n",
              "    </tr>\n",
              "    <tr>\n",
              "      <th>2</th>\n",
              "      <td>3608</td>\n",
              "      <td>Kerry to go to Paris in gesture of sympathy</td>\n",
              "      <td>U.S. Secretary of State John F. Kerry said Mon...</td>\n",
              "      <td>REAL</td>\n",
              "    </tr>\n",
              "    <tr>\n",
              "      <th>3</th>\n",
              "      <td>10142</td>\n",
              "      <td>Bernie supporters on Twitter erupt in anger ag...</td>\n",
              "      <td>— Kaydee King (@KaydeeKing) November 9, 2016 T...</td>\n",
              "      <td>FAKE</td>\n",
              "    </tr>\n",
              "    <tr>\n",
              "      <th>4</th>\n",
              "      <td>875</td>\n",
              "      <td>The Battle of New York: Why This Primary Matters</td>\n",
              "      <td>It's primary day in New York and front-runners...</td>\n",
              "      <td>REAL</td>\n",
              "    </tr>\n",
              "    <tr>\n",
              "      <th>...</th>\n",
              "      <td>...</td>\n",
              "      <td>...</td>\n",
              "      <td>...</td>\n",
              "      <td>...</td>\n",
              "    </tr>\n",
              "    <tr>\n",
              "      <th>6330</th>\n",
              "      <td>4490</td>\n",
              "      <td>State Department says it can't find emails fro...</td>\n",
              "      <td>The State Department told the Republican Natio...</td>\n",
              "      <td>REAL</td>\n",
              "    </tr>\n",
              "    <tr>\n",
              "      <th>6331</th>\n",
              "      <td>8062</td>\n",
              "      <td>The ‘P’ in PBS Should Stand for ‘Plutocratic’ ...</td>\n",
              "      <td>The ‘P’ in PBS Should Stand for ‘Plutocratic’ ...</td>\n",
              "      <td>FAKE</td>\n",
              "    </tr>\n",
              "    <tr>\n",
              "      <th>6332</th>\n",
              "      <td>8622</td>\n",
              "      <td>Anti-Trump Protesters Are Tools of the Oligarc...</td>\n",
              "      <td>Anti-Trump Protesters Are Tools of the Oligar...</td>\n",
              "      <td>FAKE</td>\n",
              "    </tr>\n",
              "    <tr>\n",
              "      <th>6333</th>\n",
              "      <td>4021</td>\n",
              "      <td>In Ethiopia, Obama seeks progress on peace, se...</td>\n",
              "      <td>ADDIS ABABA, Ethiopia —President Obama convene...</td>\n",
              "      <td>REAL</td>\n",
              "    </tr>\n",
              "    <tr>\n",
              "      <th>6334</th>\n",
              "      <td>4330</td>\n",
              "      <td>Jeb Bush Is Suddenly Attacking Trump. Here's W...</td>\n",
              "      <td>Jeb Bush Is Suddenly Attacking Trump. Here's W...</td>\n",
              "      <td>REAL</td>\n",
              "    </tr>\n",
              "  </tbody>\n",
              "</table>\n",
              "<p>6335 rows × 4 columns</p>\n",
              "</div>"
            ],
            "text/plain": [
              "         id                                              title  \\\n",
              "0      8476                       You Can Smell Hillary’s Fear   \n",
              "1     10294  Watch The Exact Moment Paul Ryan Committed Pol...   \n",
              "2      3608        Kerry to go to Paris in gesture of sympathy   \n",
              "3     10142  Bernie supporters on Twitter erupt in anger ag...   \n",
              "4       875   The Battle of New York: Why This Primary Matters   \n",
              "...     ...                                                ...   \n",
              "6330   4490  State Department says it can't find emails fro...   \n",
              "6331   8062  The ‘P’ in PBS Should Stand for ‘Plutocratic’ ...   \n",
              "6332   8622  Anti-Trump Protesters Are Tools of the Oligarc...   \n",
              "6333   4021  In Ethiopia, Obama seeks progress on peace, se...   \n",
              "6334   4330  Jeb Bush Is Suddenly Attacking Trump. Here's W...   \n",
              "\n",
              "                                                   text label  \n",
              "0     Daniel Greenfield, a Shillman Journalism Fello...  FAKE  \n",
              "1     Google Pinterest Digg Linkedin Reddit Stumbleu...  FAKE  \n",
              "2     U.S. Secretary of State John F. Kerry said Mon...  REAL  \n",
              "3     — Kaydee King (@KaydeeKing) November 9, 2016 T...  FAKE  \n",
              "4     It's primary day in New York and front-runners...  REAL  \n",
              "...                                                 ...   ...  \n",
              "6330  The State Department told the Republican Natio...  REAL  \n",
              "6331  The ‘P’ in PBS Should Stand for ‘Plutocratic’ ...  FAKE  \n",
              "6332   Anti-Trump Protesters Are Tools of the Oligar...  FAKE  \n",
              "6333  ADDIS ABABA, Ethiopia —President Obama convene...  REAL  \n",
              "6334  Jeb Bush Is Suddenly Attacking Trump. Here's W...  REAL  \n",
              "\n",
              "[6335 rows x 4 columns]"
            ]
          },
          "execution_count": 89,
          "metadata": {},
          "output_type": "execute_result"
        }
      ],
      "source": [
        "data"
      ]
    },
    {
      "cell_type": "code",
      "execution_count": 90,
      "id": "b1b8b232-b221-4f54-8ac3-412faa79bb74",
      "metadata": {
        "id": "b1b8b232-b221-4f54-8ac3-412faa79bb74",
        "pycharm": {
          "name": "#%%\n"
        }
      },
      "outputs": [],
      "source": [
        "data['fake'] = data['label'].apply(lambda x: 0 if x == \"REAL\" else 1)\n",
        "data = data.drop(\"label\", axis=1)"
      ]
    },
    {
      "cell_type": "code",
      "execution_count": 91,
      "id": "928a6e91-a51f-4429-9f67-a9ea955da69b",
      "metadata": {
        "id": "928a6e91-a51f-4429-9f67-a9ea955da69b",
        "pycharm": {
          "name": "#%%\n"
        }
      },
      "outputs": [],
      "source": [
        "X, y = data[\"text\"], data[\"fake\"]\n",
        "\n",
        "X_train, X_test, y_train, y_test = train_test_split(X, y, test_size=0.2)"
      ]
    },
    {
      "cell_type": "markdown",
      "id": "cb83bc27-31df-490a-bc47-5b4a5dcf1937",
      "metadata": {
        "id": "cb83bc27-31df-490a-bc47-5b4a5dcf1937",
        "pycharm": {
          "name": "#%% md\n"
        }
      },
      "source": [
        "TF-IDF: Term Frequency - Inverse Document Frequency\n",
        "\n",
        "A metric that indicates how important a word is to a document in a collection. It weighs the improtance of each word in a document based on how often it appears in that document and how often it appears accross all documents in the collection.\n",
        "\n",
        "TF: Number of times a term t appears in a document\n",
        "IDF: Logarithm of total number of documents divided by no. of docs that contain term\n",
        "TF-IDF: TF * IDF\n",
        "\n",
        "Basically allows us to find the most relevant and distinctive words per document."
      ]
    },
    {
      "cell_type": "code",
      "execution_count": 92,
      "id": "398615cb-56f2-4811-9036-38962c401d47",
      "metadata": {
        "id": "398615cb-56f2-4811-9036-38962c401d47",
        "pycharm": {
          "name": "#%%\n"
        }
      },
      "outputs": [],
      "source": [
        "vectorizer = TfidfVectorizer(stop_words='english', max_df=0.7)\n",
        "X_train_vectorized = vectorizer.fit_transform(X_train)\n",
        "X_test_vectorized = vectorizer.transform(X_test)"
      ]
    },
    {
      "cell_type": "code",
      "execution_count": 93,
      "id": "77d5f2f4-7ad6-4f64-8a76-2d4cbb8976bb",
      "metadata": {
        "id": "77d5f2f4-7ad6-4f64-8a76-2d4cbb8976bb",
        "outputId": "98a7ca3f-46cb-4c27-e2b4-033c14188d11",
        "pycharm": {
          "name": "#%%\n"
        }
      },
      "outputs": [
        {
          "data": {
            "text/html": [
              "<style>#sk-container-id-6 {color: black;background-color: white;}#sk-container-id-6 pre{padding: 0;}#sk-container-id-6 div.sk-toggleable {background-color: white;}#sk-container-id-6 label.sk-toggleable__label {cursor: pointer;display: block;width: 100%;margin-bottom: 0;padding: 0.3em;box-sizing: border-box;text-align: center;}#sk-container-id-6 label.sk-toggleable__label-arrow:before {content: \"▸\";float: left;margin-right: 0.25em;color: #696969;}#sk-container-id-6 label.sk-toggleable__label-arrow:hover:before {color: black;}#sk-container-id-6 div.sk-estimator:hover label.sk-toggleable__label-arrow:before {color: black;}#sk-container-id-6 div.sk-toggleable__content {max-height: 0;max-width: 0;overflow: hidden;text-align: left;background-color: #f0f8ff;}#sk-container-id-6 div.sk-toggleable__content pre {margin: 0.2em;color: black;border-radius: 0.25em;background-color: #f0f8ff;}#sk-container-id-6 input.sk-toggleable__control:checked~div.sk-toggleable__content {max-height: 200px;max-width: 100%;overflow: auto;}#sk-container-id-6 input.sk-toggleable__control:checked~label.sk-toggleable__label-arrow:before {content: \"▾\";}#sk-container-id-6 div.sk-estimator input.sk-toggleable__control:checked~label.sk-toggleable__label {background-color: #d4ebff;}#sk-container-id-6 div.sk-label input.sk-toggleable__control:checked~label.sk-toggleable__label {background-color: #d4ebff;}#sk-container-id-6 input.sk-hidden--visually {border: 0;clip: rect(1px 1px 1px 1px);clip: rect(1px, 1px, 1px, 1px);height: 1px;margin: -1px;overflow: hidden;padding: 0;position: absolute;width: 1px;}#sk-container-id-6 div.sk-estimator {font-family: monospace;background-color: #f0f8ff;border: 1px dotted black;border-radius: 0.25em;box-sizing: border-box;margin-bottom: 0.5em;}#sk-container-id-6 div.sk-estimator:hover {background-color: #d4ebff;}#sk-container-id-6 div.sk-parallel-item::after {content: \"\";width: 100%;border-bottom: 1px solid gray;flex-grow: 1;}#sk-container-id-6 div.sk-label:hover label.sk-toggleable__label {background-color: #d4ebff;}#sk-container-id-6 div.sk-serial::before {content: \"\";position: absolute;border-left: 1px solid gray;box-sizing: border-box;top: 0;bottom: 0;left: 50%;z-index: 0;}#sk-container-id-6 div.sk-serial {display: flex;flex-direction: column;align-items: center;background-color: white;padding-right: 0.2em;padding-left: 0.2em;position: relative;}#sk-container-id-6 div.sk-item {position: relative;z-index: 1;}#sk-container-id-6 div.sk-parallel {display: flex;align-items: stretch;justify-content: center;background-color: white;position: relative;}#sk-container-id-6 div.sk-item::before, #sk-container-id-6 div.sk-parallel-item::before {content: \"\";position: absolute;border-left: 1px solid gray;box-sizing: border-box;top: 0;bottom: 0;left: 50%;z-index: -1;}#sk-container-id-6 div.sk-parallel-item {display: flex;flex-direction: column;z-index: 1;position: relative;background-color: white;}#sk-container-id-6 div.sk-parallel-item:first-child::after {align-self: flex-end;width: 50%;}#sk-container-id-6 div.sk-parallel-item:last-child::after {align-self: flex-start;width: 50%;}#sk-container-id-6 div.sk-parallel-item:only-child::after {width: 0;}#sk-container-id-6 div.sk-dashed-wrapped {border: 1px dashed gray;margin: 0 0.4em 0.5em 0.4em;box-sizing: border-box;padding-bottom: 0.4em;background-color: white;}#sk-container-id-6 div.sk-label label {font-family: monospace;font-weight: bold;display: inline-block;line-height: 1.2em;}#sk-container-id-6 div.sk-label-container {text-align: center;}#sk-container-id-6 div.sk-container {/* jupyter's `normalize.less` sets `[hidden] { display: none; }` but bootstrap.min.css set `[hidden] { display: none !important; }` so we also need the `!important` here to be able to override the default hidden behavior on the sphinx rendered scikit-learn.org. See: https://github.com/scikit-learn/scikit-learn/issues/21755 */display: inline-block !important;position: relative;}#sk-container-id-6 div.sk-text-repr-fallback {display: none;}</style><div id=\"sk-container-id-6\" class=\"sk-top-container\"><div class=\"sk-text-repr-fallback\"><pre>LinearSVC()</pre><b>In a Jupyter environment, please rerun this cell to show the HTML representation or trust the notebook. <br />On GitHub, the HTML representation is unable to render, please try loading this page with nbviewer.org.</b></div><div class=\"sk-container\" hidden><div class=\"sk-item\"><div class=\"sk-estimator sk-toggleable\"><input class=\"sk-toggleable__control sk-hidden--visually\" id=\"sk-estimator-id-6\" type=\"checkbox\" checked><label for=\"sk-estimator-id-6\" class=\"sk-toggleable__label sk-toggleable__label-arrow\">LinearSVC</label><div class=\"sk-toggleable__content\"><pre>LinearSVC()</pre></div></div></div></div></div>"
            ],
            "text/plain": [
              "LinearSVC()"
            ]
          },
          "execution_count": 93,
          "metadata": {},
          "output_type": "execute_result"
        }
      ],
      "source": [
        "clf = LinearSVC()  # Linear SVC is considered one of the best text classification algorithms\n",
        "clf.fit(X_train_vectorized, y_train)"
      ]
    },
    {
      "cell_type": "code",
      "execution_count": 94,
      "id": "e074b5ae-019d-40d8-be2c-b30b03baa0d9",
      "metadata": {
        "id": "e074b5ae-019d-40d8-be2c-b30b03baa0d9",
        "outputId": "de93004d-988d-4ceb-dc8e-e173c4be50f3",
        "pycharm": {
          "name": "#%%\n"
        }
      },
      "outputs": [
        {
          "data": {
            "text/plain": [
              "0.9408050513022889"
            ]
          },
          "execution_count": 94,
          "metadata": {},
          "output_type": "execute_result"
        }
      ],
      "source": [
        "clf.score(X_test_vectorized, y_test)"
      ]
    },
    {
      "cell_type": "code",
      "execution_count": 95,
      "id": "da1819a2-4185-46ca-a3eb-7f21fd607c04",
      "metadata": {
        "id": "da1819a2-4185-46ca-a3eb-7f21fd607c04",
        "pycharm": {
          "name": "#%%\n"
        }
      },
      "outputs": [],
      "source": [
        "article_text = X_test.iloc[10]\n",
        "vectorized_text = vectorizer.transform([article_text])"
      ]
    },
    {
      "cell_type": "code",
      "execution_count": 96,
      "id": "10dff146-93eb-4a14-a75f-61fa6afed777",
      "metadata": {
        "id": "10dff146-93eb-4a14-a75f-61fa6afed777",
        "outputId": "049ae8d3-79ba-4147-e8fd-01e5fc078857",
        "pycharm": {
          "name": "#%%\n"
        }
      },
      "outputs": [
        {
          "data": {
            "text/plain": [
              "array([0], dtype=int64)"
            ]
          },
          "execution_count": 96,
          "metadata": {},
          "output_type": "execute_result"
        }
      ],
      "source": [
        "clf.predict(vectorized_text)"
      ]
    },
    {
      "cell_type": "code",
      "execution_count": 97,
      "id": "6c20c502-4e67-443d-8e25-29ae3a77d1e0",
      "metadata": {
        "id": "6c20c502-4e67-443d-8e25-29ae3a77d1e0",
        "outputId": "1bb94a06-4821-4565-e77c-75f3b8d335f7",
        "pycharm": {
          "name": "#%%\n"
        }
      },
      "outputs": [
        {
          "data": {
            "text/plain": [
              "0"
            ]
          },
          "execution_count": 97,
          "metadata": {},
          "output_type": "execute_result"
        }
      ],
      "source": [
        "y_test.iloc[10]"
      ]
    },
    {
      "cell_type": "code",
      "execution_count": 98,
      "id": "LMmKqK6-BzwG",
      "metadata": {
        "id": "LMmKqK6-BzwG",
        "outputId": "c79fde6f-d7fa-4431-940c-678b185ce96f"
      },
      "outputs": [
        {
          "name": "stdout",
          "output_type": "stream",
          "text": [
            "The answer is correct.\n"
          ]
        }
      ],
      "source": [
        "# Generate a random index within the range of X_test\n",
        "random_index = random.randint(0, len(X_test) - 1)\n",
        "\n",
        "# Select a random article using the generated index\n",
        "article_text = X_test.iloc[random_index]\n",
        "vectorized_text = vectorizer.transform([article_text])\n",
        "\n",
        "# Predict\n",
        "predicted_value = clf.predict(vectorized_text)[0]\n",
        "\n",
        "# Actual value\n",
        "actual_value = y_test.iloc[random_index]\n",
        "\n",
        "# Comparison and output\n",
        "if predicted_value == actual_value:\n",
        "    print(\"The answer is correct.\")\n",
        "else:\n",
        "    print(\"The answer is incorrect.\")\n",
        "\n"
      ]
    },
    {
      "cell_type": "code",
      "execution_count": 99,
      "id": "Belrhu7ZBzwG",
      "metadata": {
        "id": "Belrhu7ZBzwG",
        "outputId": "768e09dc-7795-4e64-ca9c-2a3e2b8380b7"
      },
      "outputs": [
        {
          "name": "stdout",
          "output_type": "stream",
          "text": [
            "Index: 15, Predicted: 0, Actual: 1\n",
            "Text: Sharpton Attacks O’Keefe, So O’Keefe Releases Brutal Expose on Sharpton… BOOM! \n",
            "If you are going to wallow in the liberal media mire, though, MSNBC is by far my favorite — and trust me, a year-and-a-half of observing presidential campaigns has made me quite a connoisseur of the left-slanting morass. \n",
            "MSNBC pretends that conservatives and Trump supporters are from another planet — or, at the very least, another culture, a sort of cargo cult that is to be studied anthropologically but never taken with any seriousness. \n",
            "This interaction with MSNBC reporter Jacob Rascon on Wednesday proved what I’m talking about perfectly. He had found a mother and daughter in line, apparently for early voting. They were also African-American, which made them a cargo cult on top of a cargo cult, by liberal media standards.   \n",
            "However, when he asked them about criticism of Trump’s African-American outreach, the mother and daughter blew him out of the water. \n",
            "“Well, I think Trump is reaching out to all citizens, including African-Americans,” Trina, the daughter, told MSNBC. “He’s trying to address a problem. It should not be a problem if you address there is something wrong, and you have a plan that wants to help people.” \n",
            "“That’s what a president should do for us. He should reach out and try to help people and address problems that’s going on in our country.” \n",
            "“Some of the criticisms have been about (Trump’s pitch to minority voters) ‘What do you have to lose?’” Rascon said to Gloria, the mother. “What do you think about that criticism?”  \n",
            "\n",
            "Index: 44, Predicted: 1, Actual: 0\n",
            "Text: As volatile and nerve-wracking as the great Clinton-Trump Slugfest of 2016 has appeared from the outside, polling data have, for months, suggested a far more stable race. Polling aggregators and election prediction markets have consistently shown Hillary Clinton with an enduring lead over Donald Trump. Then, with less than two weeks remaining until Election Day, F.B.I. director James Comey decided to get involved, firing off a maddeningly vague letter to Congress, alerting them to the renewal of an investigation into new e-mails that may or may not pertain to Clinton’s use of a private server as secretary of state, and throwing the race into chaos. The Mexican peso plunged as Wall Street started pricing in the rising possibility of a Trump win, and the media went into overdrive, hyperventilating over a spate of new polls that showed the race tightening. Now, as we head into the final weekend before America’s much-anticipated day of reckoning, the Hive offers a perspicacious overview of all the multifarious reasons to panic, no matter who you’re voting for on Tuesday.\n",
            "\n",
            "Yes, the polls could be misleading\n",
            "\n",
            "The Chicago Cubs had a smaller chance of winning than Trump currently does, as Kellyanne Conway is quick to remind us. That isn’t to say that the statistics showing a likely Cubs win didn’t accurately take into account everything that sports bettors and analysts knew about both teams at the time. It’s merely to say that predictions are just that—our best guess for what will happen. All polls include a margin of error, and right now, Donald Trump is pretty close to striking distance. According to FiveThirtyEight, Trump lags Clinton by just 3.3 points in a polls-only forecast; in 2012, average polling turned out to be off by 2.7 points. Even if the electoral college seems to place Clinton ahead by wider margins in certain states, “this presumes that the states behave independently from national trends, when in fact they tend to move in tandem,” writes Nate Silver . If national polls are off by 2.7 points, for example, that would be more than enough to flip Wisconsin and Minnesota into Trump’s column, Silver notes. “She has quite a gauntlet to run through to hold her firewall, and she doesn’t have a lot of good backup options.”\n",
            "\n",
            "There’s a worrying degree of variation among polling aggregators, data scientists, and political analysts. While HuffPost Pollster, which excludes outlier polls, currently gives Clinton a 97.9 percent of victory, Silver’s model is far more conservative, giving Clinton a 68.1 percent chance to account for increased volatility. “[E]verything depends on one’s assumptions, but I think that our assumptions—a Clinton lead, sure, but high uncertainty—has repeatedly been validated by the evidence we've seen over the course of the past several months,” Silver recently told Politico.\n",
            "\n",
            "Others are far more optimistic. Neuroscientist Sam Wang, who out-predicted Silver in 2012, has observed that while some individual polls may place Clinton narrowly ahead, Trump’s rise shouldn’t be confused for momentum:\n",
            "\n",
            "“One thing that’s been apparent is that a major feature of voter opinion for last five elections—this is the sixth—is that voters have become entrenched,” says Wang. “The movement of voter opinion has been within a narrow range. In finance and other types of statistical analysis, we call this kind of movement a ‘regression to the mean.’ It happened in 2008, in 2012 and it’s happening this year. When things go too far in one direction, they’ll start to head back to a midpoint. Clinton is now at the low end of where she’s been this season. But if the regression to the mean holds, we should see a little movement back to Clinton. But we’ll see.”\n",
            "\n",
            "Wang’s Princeton Election Consortium pegs Clinton’s chances of winning at over 99 percent.\n",
            "\n",
            "The myth of the “secret” Trump voter\n",
            "\n",
            "“The silent majority is back,” Trump declared less than a week after Clinton’s F.B.I. drama broke out into the open. He was referring to a longstanding belief, possibly backed by political science, that there exist a vast swath of Trump supporters too embarrassed to tell pollsters they plan to vote for him. “When I poll, I do fine. But when I run, I do much better,” he bragged.\n",
            "\n",
            "Experts have thrown cold water on that idea. A POLITICO/Morning Consult study this week suggests that the myth of the shy Trump voter may be only half-right: according to the survey, Hillary Clinton led Trump by five points, 52 to 47, whereas if asked in an online poll or an automated call—two situations in which there was no possibility of social judgment—that gap narrowed to three points, with Clinton leading 51 to 48. Still, the effect was marginal, and Clinton won in both scenarios.\n",
            "\n",
            "Nate Cohn at the Upshot has argued that the mysterious newly registered voter is actually more liberal than most pundits have assumed. While Trump may have more enthusiastic white supporters, data shows no new registration “surge” in this category, whereas more younger white voters, minorities, and women registered for the first time. Pollsters and analysts, Cohn mused, were ignoring these “missing nonwhite voters,” and that “it’s Mrs. Clinton—not Mr. Trump—who stands to gain from a surge of new voters.”\n",
            "\n",
            "Other data also support the idea that polling is underestimating Clinton’s support. While black turnout has been soft compared to four years ago Latinos—who are usually under-polled—appear to be registering and voting at higher levels than before. Talking Points Memo reports that Latino early voting is up 100 percent in Florida, 60 percent in North Carolina, and 25 percent in Colorado and Nevada. Latino Decisions, a Latino advocacy group, told TPM that they are projecting as many as 3.5 million more Latinos will vote in 2016 than in 2012, which could help her win all four aforementioned swing states.\n",
            "\n",
            "So where does that leave us?\n",
            "\n",
            "The latest Clinton e-mail drama may not have caused any significant shifts nationally, outside of a brief hiccup, but it may have rearranged Clinton’s pathway to victory. A week after Comey sent his letter, Silver caught up with the recent polling and found that Clinton’s so-called “blue firewall” has started to weaken, with states such as New Hampshire and Michigan suddenly in greater danger of tilting Trump. ”It’s not clear that things are getting any worse for Clinton, but it’s also not clear that they’re getting better,” he concluded. In fact, nothing is getting much clearer than it has ever been—which, perhaps, is liberating in its own way.\n",
            "\n"
          ]
        }
      ],
      "source": [
        "# Predict for the entire test set\n",
        "predictions = clf.predict(X_test_vectorized)\n",
        "\n",
        "# Convert predictions and actual labels to arrays for easier comparison\n",
        "predictions_array = np.array(predictions)\n",
        "actual_labels_array = y_test.to_numpy()\n",
        "\n",
        "# Find indices where predictions and actual labels differ\n",
        "mismatch_indices = np.where(predictions_array != actual_labels_array)[0]\n",
        "\n",
        "# Print first 2 mismatches with its index\n",
        "for index in mismatch_indices[:2]:\n",
        "    print(f\"Index: {index}, Predicted: {predictions_array[index]}, Actual: {actual_labels_array[index]}\")\n",
        "    print(f\"Text: {X_test.iloc[index]}\\n\")\n"
      ]
    },
    {
      "cell_type": "code",
      "execution_count": 100,
      "id": "7CQEhSt5BzwG",
      "metadata": {
        "id": "7CQEhSt5BzwG"
      },
      "outputs": [],
      "source": [
        "# Predict for the entire test set\n",
        "predictions = clf.predict(X_test_vectorized)\n",
        "\n",
        "# Convert predictions and actual labels to arrays for easier comparison\n",
        "predictions_array = np.array(predictions)\n",
        "actual_labels_array = y_test.to_numpy()\n",
        "\n",
        "# Initialize lists for false negatives and false positives\n",
        "false_negatives = []\n",
        "false_positives = []\n",
        "\n",
        "# Iterate over the predictions and actual labels\n",
        "for i in range(len(predictions_array)):\n",
        "    if predictions_array[i] == 0 and actual_labels_array[i] == 1:\n",
        "        # False Negative\n",
        "        false_negatives.append(i)\n",
        "    elif predictions_array[i] == 1 and actual_labels_array[i] == 0:\n",
        "        # False Positive\n",
        "        false_positives.append(i)"
      ]
    },
    {
      "cell_type": "code",
      "execution_count": 101,
      "id": "LNAOCkz5BzwG",
      "metadata": {
        "id": "LNAOCkz5BzwG",
        "outputId": "423e7bcc-04b9-4cbe-d63b-a43ca40805f9"
      },
      "outputs": [
        {
          "name": "stdout",
          "output_type": "stream",
          "text": [
            "False Negatives: ACTUALLY FAKE NEWS!!!\n",
            "\n",
            "\n",
            "Index: 15, Text: Sharpton Attacks O’Keefe, So O’Keefe Releases Brutal Expose on Sharpton… BOOM! \n",
            "If you are going to wallow in the liberal media mire, though, MSNBC is by far my favorite — and trust me, a year-and-a-half of observing presidential campaigns has made me quite a connoisseur of the left-slanting morass. \n",
            "MSNBC pretends that conservatives and Trump supporters are from another planet — or, at the very least, another culture, a sort of cargo cult that is to be studied anthropologically but never taken with any seriousness. \n",
            "This interaction with MSNBC reporter Jacob Rascon on Wednesday proved what I’m talking about perfectly. He had found a mother and daughter in line, apparently for early voting. They were also African-American, which made them a cargo cult on top of a cargo cult, by liberal media standards.   \n",
            "However, when he asked them about criticism of Trump’s African-American outreach, the mother and daughter blew him out of the water. \n",
            "“Well, I think Trump is reaching out to all citizens, including African-Americans,” Trina, the daughter, told MSNBC. “He’s trying to address a problem. It should not be a problem if you address there is something wrong, and you have a plan that wants to help people.” \n",
            "“That’s what a president should do for us. He should reach out and try to help people and address problems that’s going on in our country.” \n",
            "“Some of the criticisms have been about (Trump’s pitch to minority voters) ‘What do you have to lose?’” Rascon said to Gloria, the mother. “What do you think about that criticism?”  \n",
            "\n",
            "Index: 86, Text: The Ruthlessly Effective Rebranding of Europe’s New Far Right Sasha Polakow-Suransky, Guardian, November 1, 2016 \n",
            "In April 2002, Jean-Marie Le Pen stunned all of Europe by defeating the socialist candidate, Lionel Jospin, in the first round of the French presidential election, and advancing to the final round between the top two candidates. Terrified by the prospect of a far-right victory, the French left–including communists, Greens and the Socialist party–threw their support behind the incumbent president, Jacques Chirac , a pillar of the centre-right establishment who had served as mayor of Paris for 18 years before becoming president in 1995. This electoral strategy effectively isolated Le Pen’s Front National (FN), depicting it as a cancerous force in the French body politic. \n",
            "Two weeks later, on 5 May, Chirac won the election with an astronomical 82% of the vote, trouncing Le Pen by the biggest margin in a French presidential election since 1848. Raucous celebrations spilled into the streets of Paris. “We have gone through a time of serious anxiety for the country–but tonight France has reaffirmed its attachment to the values of the republic,” Chirac declared in his victory speech . Then, speaking to the joyous crowds in the Place de la République, he lauded them for rejecting “intolerance and demagoguery”. \n",
            "But May 2002 was not, in fact, a moment of triumph. Rather it was the dying gasp of an old order, in which the fate of European nations was controlled by large establishment parties. \n",
            "Jean-Marie Le Pen was an easy target for the left, and for establishment figures such as Chirac. He was a political provocateur who appealed as much to antisemites and homophobes as to voters upset about immigration, drawing his support largely from the most reactionary elements of the old Catholic right. In other words, he was a familiar villain–and his ideology represented an archaic France, a defeated past. Moreover, he did not seriously aim for power, and never really came close to acquiring it; his role was to be a rabble-rouser and to inject his ideas into the national debate. \n",
            "Europe’s new far right is different. From Denmark to the Netherlands to Germany, a new wave of rightwing parties has emerged over the past decade-and-a-half, and they are casting a much wider net than Jean-Marie Le Pen ever attempted to. And by deftly appealing to fear, nostalgia and resentment of elites, they are rapidly broadening their base. \n",
            "Le Pen’s own daughter is a prime example of the new ambitions of the right: unlike her incendiary father, Marine Le Pen is running a disciplined political operation and has already proven that her party can win upwards of 40% of the vote in regions from Calais in the north to the Côte d’Azur in the south. She and her Danish and Dutch counterparts are not–as some on the left would like to believe–neo-Nazis or inconsequential extremists with fringe ideas lacking popular appeal. \n",
            "These parties have built a coherent ideology and steadily chipped away at the establishment parties’ hold on power by pursuing a new and devastatingly effective electoral strategy. They have made a very public break with the symbols of the old right’s past, distancing themselves from skinheads, neo-Nazis and homophobes. They have also deftly co-opted the causes, policies and rhetoric of their opponents. They have sought to outflank the left when it comes to defending a strong welfare state and protecting social benefits that they claim are threatened by an influx of freeloading migrants. \n",
            "They have effectively claimed the progressive causes of the left–from gay rights to women’s equality and protecting Jews from antisemitism–as their own, by depicting Muslim immigrants as the primary threat to all three groups. As fear of Islam has spread, with their encouragement, they have presented themselves as the only true defenders of western identity and western liberties–the last bulwark protecting a besieged Judeo-Christian civilisation from the barbarians at the gates. \n",
            "These parties have steadily filled an electoral vacuum left open by social democratic and centre-right parties, who ignored voters’ growing anger over immigration–some of it legitimate, some of it bigoted–or simply waited too long to address it. \n",
            "They have shed some of the right’s most unsavoury baggage while responding to both economic anxiety and fear of terrorism by blending a nativist economic policy–more welfare, but only for us –and tough anti-immigration and border security measures. Their message is beginning to resonate widely with a fearful population that believes the liberal governing elite no longer listens to them. \n",
            "Brexit was just the start. Europe’s new far right is poised to transform the continent’s political landscape–either by winning elections or simply by pulling a besieged political centre so far in its direction that its ideas become the new normal. And when that happens, groups that would never have contemplated voting for a far-right party 10 years ago–the young, gay people, Jews, feminists–may join the working-class voters who have already abandoned parties of the left to become the new backbone of the populist right. \n",
            "On 6 May 2002, one day after revellers filled the streets of Paris to celebrate Chirac’s historic victory, the flamboyant and iconoclastic leader of the Dutch far right, Pim Fortuyn, was gunned down by a radical animal rights activist as he emerged from a radio interview. His assassin later claimed that he had killed Fortuyn to stop him from using Muslims as “scapegoats”. In national elections nine days later, Fortuyn’s eponymous party–the Pim Fortuyn List– became the second largest in the Netherlands with 17% of the vote. \n",
            "Fortuyn, a former communist and openly gay man who boasted of sleeping with Muslim immigrants while calling for a ban on Muslim immigration, was an electrifying figure in a country known for its staid politics. His time in the limelight was short but transformative. \n",
            "It was Fortuyn who blazed the trail for the new generation of far-right leaders across Europe. He may not have intended to be a pioneer, but his brand of plain-spoken political incorrectness and his depiction of Islamic culture as a “backwards” and reactionary threat to the hard-won progressive values of western Europe would provide a potent template for a modernised far right. His ideological inheritors in Dutch politics, as well as the revamped Front National in France, the Danish People’s Party and Germany’s Alternative für Deutschland have all emulated Fortuyn in their own ways. \n",
            "Fortuyn proved that the winning argument for the European far right was not a US-style appeal to conservative religious values, but rather to claim it was “defending secular, progressive culture from the threat of immigration,” argues Merijn Oudenampsen of Tilburg University. The Netherlands was a perfect laboratory for this new strategy because, unlike France, it did not have a strong contingent of religious traditionalists opposed to women’s liberation and gay rights. \n",
            "Before founding his own party in 2002, Fortuyn had tried to join an establishment centre-right party, the People’s Party for Freedom and Democracy (VVD), in the late 1990s. The party’s then-leader, Frits Bolkestein, who had been one of the first figures to speak critically about immigration in the early 1990s, remembers Fortuyn as a talented but inflammatory politician. “He had a thoroughly theatrical personality, and that played in his favour,” said Bolkestein, now in his 80s, from his office overlooking the canals of Amsterdam. “I didn’t want him to be in my parliamentary group, so I cold-shouldered him . . . He would have acted as a fragmentation bomb.” \n",
            "Fortuyn took his explosive rhetoric elsewhere and, by creating a new type of far-right politics in progressive garb–“a form of xenophobia ideally suited to a nation that prides itself on its tolerance,” as a New Yorker profile once described it–he redirected the entire national debate in a way that has endured long after his death. \n",
            "Two years after Fortuyn was killed, the Netherlands was traumatised by another political assassination. Early one morning in November 2004, the filmmaker Theo van Gogh was murdered by a young Dutch-Moroccan, Mohammed Bouyeri, who shot van Gogh eight times, slashed his throat and then pinned a letter to his chest with a knife. The letter was a death threat aimed at the Somali-born Dutch parliamentarian Ayaan Hirsi Ali –a vocal critic of Islam who was soon placed under the protection of the Dutch security services. \n",
            "The two assassinations shook the Netherlands to its core and catapulted a little-known and theatrically coiffed politician, Geert Wilders , to popularity as an ideological successor to Fortuyn. Wilders had also flirted with Bolkestein’s VVD, beginning his political career as a staffer in the party office. In late 2004, he split off and formed his own. With Hirsi Ali in hiding, he quickly became the most prominent anti-immigration voice in the country–and has remained so ever since. \n",
            "For those who cared to look, the political ground had already begun to shift. Six months before Chirac’s trouncing of Le Pen and Fortuyn’s assassination, Denmark had an election. On its surface the result was not a historical watershed; the centre-right Venstre party ousted the Social Democrats, handing power from one establishment party to the other. What had changed was that the Danish People’s Party, which had campaigned on an overtly anti-immigrant platform, took 12% of the vote–transforming it into a kingmaker in parliament. \n",
            "Unlike France, which revelled in its triumph over the FN, or the Netherlands, where the remains of Fortuyn’s party failed to become a real parliamentary force, the DPP immediately became a serious player with real influence over policy. And it was not only taking votes from the right; it was also attracting disgruntled social democratic voters who felt that their leaders had abandoned them. \n",
            "The DPP had crafted a social and economic policy that was in many ways more socialist than that of the Social Democrats–promising better health care, better care for the elderly, and more subsidised housing. As the outgoing Social Democratic prime minister Poul Nyrup Rasmussen told me in 2002, a few months after his defeat: “They took a part of our rhetoric and tried to sell it as a new package to the people, and with some success, one may say.” Back then, Naser Khader, a Danish member of parliament who immigrated from Syria as a child, argued that “the best way to weaken the DPP is to give them influence”. He was wrong. \n",
            "The headquarters of the Front National sits on a quiet street in the unassuming Paris suburb of Nanterre, near a car repair shop and a Portuguese restaurant. Only when you approach the grey building with its mostly closed blue shutters do the armed guards come into view. In her modest second-floor office, surrounded by books and a cloud of vape smoke, Marine Le Pen explained earlier this year how she transformed a party previously known for calling the Holocaust a “ detail of history ” into a genuine contender for the presidency. \n",
            "“Voluntarily or not, he gave ammunition to our adversaries,” Le Pen said of her father. But she insisted that she has now cleaned house. “I fired them all . . . all those people who expressed an ideology or held views that I found unacceptable.” \n",
            "Julien Rochedy, a 28-year-old who headed the FN’s youth wing but has since left the party, told me that he believes the changes are real. Whereas the party’s former leader used to pepper his speeches with lines that made Jews’ hair stand on end, today, if someone tells a racist joke within the party, “you will be attacked straight away,” Rochedy said. “There is such self-discipline these days. They are so afraid they’ll be accused once again of being antisemitic or racist.” \n",
            "Still, the party’s detractors continue to level the same charges at the FN, which outrages Marine Le Pen . “Today our adversaries no longer have that ammunition, and they repeat on loop” old tropes about fascists and racists. “At a certain point this argument loses its force,” she continued, “because voters see clearly that there’s absolutely nothing in our platform that remotely resembles fascism or racism.” \n",
            "Le Pen has done more than kick out the most blatant racists and antisemites. She has consciously crafted a campaign designed to appeal to voters of the centre and left–and other constituencies–who could never have imagined voting for her father’s Front National. \n",
            "As Le Monde’s Olivier Faye has written , she is “trying to erase another image that has stuck to the skin of the FN–that of homophobia”. And it is working: a survey showed that her share of the vote among married gay couples in the 2015 regional elections was over 32%–up from just 19% in a similar poll from 2012. \n",
            "As Le Pen has filled her inner circle with more and more openly gay advisers and party leaders, she has also made her pitch to Jewish voters more explicit: “For a lot of French Jews, the FN appears to be the only movement that can defend them from this new antisemitism nourished in the banlieues ,” Le Pen told me. “In a very natural way they have turned toward the FN, because the FN is capable, I think, of protecting them from that.” \n",
            "Among French voters threatened by the country’s new diversity, rejection of a multicultural society increasingly takes the form of longing for a bygone era. And peddling nostalgia is the centrepiece of many new far-right parties across Europe . In France, Marine Le Pen has promised a return to a time when the French had their own currency and monetary policy, when there were fewer mosques and less halal meat, when no one complained about nativity scenes in public buildings, and when French schools promoted a republican ethos of assimilation. \n",
            "“A growing number of French people feel uncomfortable in their own country,” the prominent philosopher, Alain Finkielkraut , declared in January during a debate with the centre-right presidential candidate Alain Juppé–who has taken a less strident line on Islam and migration than his rival Nicolas Sarkozy. Finkielkraut depicted contemporary France as a country of halal butchers and tea shops filled only with men, pleading that “the public good isn’t in the clouds, it’s made from tangible things–the French of Proust and Montaigne . . . the Jardin du Luxembourg and the cows of Normandy”. \n",
            "Finkielkraut, a 67-year-old Jewish liberal, is not an admirer of the Front National, but Marine Le Pen’s deliberate appeals to Jews and gay people have given political expression to an argument that he first made more than a decade ago–that the left, with its indulgence of Islam, poses a greater threat to France than the far right. After Chirac “saved” the republic from Jean-Marie Le Pen in 2002, Finkielkraut watched the celebrations in the streets and warned that the victors were the real danger: “The future of hate is in their camp and not in the camp of those nostalgic for Vichy,” he wrote, “ . . . in the camp of the multicultural society and not that of the ethnic nation–in the camp of respect, not that of rejection.” \n",
            "Fourteen years later, after the terrorist attacks on Charlie Hebdo, the Bataclan and Nice, Finkielkraut is even more certain he was correct. “Anti-racism today frequently serves as a pretext for not seeing the true danger that threatens us,” he told me when we met in his Paris apartment this summer. While he is still no fan of the FN, he believes it has changed and argues that it “should be resisted, but for what it is today and not what it was in the past, and not in the name of anti-fascism”. The French must, he insisted, “avoid simplistic analogies with the 1930s. We must not mistake what era we live in. Europe doesn’t only have demons; it also has enemies, and it needs to know how to fight those enemies.” \n",
            "He worries that integration has been such a failure that France will have to “reconquer” its “lost territories”–by which he means the suburbs surrounding Paris. “Integrating people is not telling them ‘You are how you are and we are how we are’ . . . Integration means making them an integral part of our civilisation.” And if that doesn’t happen, he warned darkly, “at best we’ll have secession and at worst civil war”. Continued immigration from Muslim countries, he argues, is nothing less than the “planned demise of Europe”. \n",
            "Across the country, nostalgia for an older, whiter France has become a potent political force. In the southern city of Béziers, Mayor Robert Ménard, a former Trotskyist who cofounded the press freedom group Reporters Without Borders , is seeking to place a moratorium on the opening of kebab shops and has renamed a street after one of the French officers who joined a failed coup against De Gaulle in 1961 to prevent Algerian independence . Ménard comes from a family of pieds-noirs , French settlers in Algeria. He regards the Evian accords that ended the Algerian war as a “capitulation”, and those who tried to preserve French Algeria as heroes. \n",
            "This nostalgia has an unmistakable appeal, but not necessarily for the sort of voters one might expect. Whereas young Britons overwhelmingly voted to remain in the EU and the elderly voted to leave, in France it is the opposite. According to Julian Rochedy, the former FN youth leader, appeals to nostalgia work better with the young in France–who dream of an era they never witnessed–than with the old, who lived through the era Marine Le Pen promises to restore. It is older voters, Rochedy argues, who are the greatest obstacle to Le Pen’s victory. “They are afraid of leaving the euro,” he says. “They are afraid of huge changes.” Rochedy is convinced that the FN will never win simply by fetishising the past. “They just want to go back 30 years,” he said of his erstwhile colleagues. “It’s a discourse that doesn’t at all take into account the world as it is and what France has become.” \n",
            "Even if Le Pen cannot win over enough older voters for her to become president, there is one ageing constituency that has already moved significantly to the right–the former members of what used to be the largest communist party in western Europe. \n",
            "As the French Communist party collapsed, its supporters were left rudderless. According to Andrew Hussey, a Liverpool-born academic who teaches in Paris, the technocratic leaders of the Socialist party– many of them graduates of the ultra-elite Ecole Nationale d’Administration–“are so disconnected from ordinary people” that even former Marxists won’t consider voting for them. Distrustful of the establishment and searching for a state that protects them, many have turned to the FN. “I think you’ve got a big political question here about who looks after you,” Hussey said. “This is a very communist way of thinking.” \n",
            "Le Pen knows that she is attracting these people. Many of her supporters “used to be socialists, but they aren’t any more”, she told me. Although she prefers to avoid the phrase welfare state–“That’s a socialist concept,” she insisted–Le Pen has appealed directly to this yearning for a large and nurturing state that fights for the common man and not the rich. \n",
            "“I defend fraternity–the idea that a developed country should be able to be able to provide the poorest with the minimum needed to live with dignity as a human being. The French state no longer does that,” she told me. “We’re in a world today in which you either defend the interests of the people or the interests of the banks.” And she has seen results. She points to the northern Pas-de-Calais region. “It was socialist-communist for 80 years,” she says. “I won 45%.” \n",
            "At the same time as Marine Le Pen was working to “de-demonise” the FN, the leaders of the Dutch far right successfully seized the mantle of radicalism by positioning itself as the only force that dares to challenge an out-of-touch political establishment, and the only party willing to speak out about what many voters fear: extremist Islam. \n",
            "Geert Wilders and his Party for Freedom (PVV) have surpassed the Dutch Labour party to take up a close second place in polls ahead of the March 2017 election. Last September, Wilders declared that Europe was facing an “ Islamic invasion ”–the sort of comments that landed him in court this week on charges of inciting racial hatred , which he dismisses as an attack on freedom of expression. \n",
            "The presence of “masses of young men in their 20s with beards singing ‘Allahu Akbar’ across Europe”, Wilders warned at the peak of last year’s refugee crisis, posed a dire threat to “our prosperity, our security, our culture and identity”. Across the country, grassroots groups responded to Wilders’s warning, attempting to block the resettlement of asylum seekers in their towns. Last October, Klaas Dijkhoff, the deputy minister responsible for refugee resettlement, arrived for a visit to the tiny north-eastern village of Oranje, where the Dutch government had decided to place 700 refugees. Outraged locals blocked the road leading to town, kicked Dijkhoff’s car and tore off its rearview mirrors. A few days later, near Utrecht, an asylum centre was attacked by masked men with smoke bombs and fireworks. \n",
            "In the decade following the assassinations of Fortuyn and Van Gogh, the integration of Muslim immigrants became the most divisive issue in Dutch politics. Suddenly, Turkish and Moroccan-born Dutch citizens became “Muslims”. And as the public debate over Islam and migration grew even more hostile, even the most basic forms of visible religious observance–wearing the hijab, buying halal meat, fasting during Ramadan–became politically loaded. \n",
            "The Dutch Labour MP Ahmed Marcouch, who came to the Netherlands from rural Morocco when he was 10, recounted how controversies have erupted everywhere from supermarkets to classrooms. It is a jolt to the traditionally liberal Netherlands when teenage girls tell their male teachers they can’t shake hands, or that they fast and pray while many other Dutch kids are out drinking and having sex. As Marcouch remarked, it runs against everything that Dutch youth culture promotes. \n",
            "Wilders’s PVV has capitalised on this cultural angst by using simple and deliberately brash slogans about immigration, crime, and refugees–one of his latest memes is simply “De-Islamise”–to win over voters who feel that everything familiar to them is slipping away. \n",
            "By framing its anti-migrant politics as a battle against imperious elites and political correctness, the PVV has been able to capitalise on a panoply of grievances, from anger over asylum seekers to Euroscepticism. Meanwhile, many causes of the radical left–including anti-racism and anti-colonialism–have now become establishment thinking in the Netherlands. “Idealism has been bureaucratised,” argues the journalist Bas Heijne, who writes a column in the liberal daily newspaper NRC Handelsblad. “And when the establishment enforces universalism, you react against it.” That’s why there is such a strong anti-PC tone to the Dutch right: do not tell us what to say, what to celebrate and who we must live next to. \n",
            "Just as Marine Le Pen’s FN has become a huge presence on social media in France, the right is in the midst of colonising the Dutch media. Geen Stijl (“No Style”), a popular Breitbart-style news site featuring abrasive articles and videos, encourages its best and angriest commenters to visit mainstream news sites and go on the attack. “It is massively important,” says Tilburg University’s Merijn Oudenampsen, “like a social movement”. The site began as a blog dedicated to those who felt politically homeless after Fortuyn’s murder, and has since become a ubiquitous presence in Dutch public debate, with an army of “reactors” on Twitter. According to Oudenampsen, some politicians have told him that Geen Stijl is the first site they check in the morning. \n",
            "The right’s newfound media clout has also helped shape what the journalist Kustaw Bessems, from the leftwing Volkskrant newspaper, sees as a new, inverted, form of political correctness. In the old days, he says, there were taboos enforced by the left: badmouth immigrants and “you were immediately called a racist and extreme right and basically pressured to shut up”. Now, it’s the other way around. “As soon as you say anything other than ‘immigration is a problem’ or ‘Islam is the cause of terrorism’ . . . the thought police immediately jump on your neck to correct you.” \n",
            "A Dutch government official who focuses on security issues complained that even as the integration of Muslim immigrants and the threat of radical Islam had become the most heated and polarising issues in the Netherlands, almost none of the feverish public debate was informed by knowledge of Islamism or terrorism. While politicians fan the flames of fear, the official said, “the economists look for the economic roots of the problem, sociologists look for social causes and the anthropologists try to explain jihadi culture–but none of them have any idea about theology”. Even scholars of radicalisation tend to study today’s extremists through the historical lens of the European radical left–which does little to explain what leads a small number of young Muslim men such as Van Gogh’s killer, Mohamed Bouyeri, to devote themselves to the cause of jihad. “It’s easy to be a Marxist,” the security official quipped. “It’s fucking hard to be a salafi.” \n",
            "As the perception that the state is helpless to prevent the radicalisation of Muslim teenagers deepens and the fear of terrorism increases, so does the share of voters who are newly receptive to the far right’s tirades about “Islamisation”. These days it is not only anti-migration activists pushing back against the bureaucratised consensus. There are also many disappointed progressives–the people who saw the cultural victories of the 1960s and 1970s as major battles that had long since been won, making sexual freedom, feminism and gay rights an unquestioned part of Dutch society. Suddenly those old victories seem tenuous. “There is a sense that, ‘We are welcoming and then they do this,’ says Bas Heijne. “They have been terribly let down in their good intentions.” And in such an environment, traditionally leftist constituencies such as gay people and Jews feel threatened–and some have become reflexively suspicious of Muslims. \n",
            "The stereotype that observant Muslims hate gay men and lesbians has become so entrenched in the Netherlands that neither side can fathom evidence to the contrary. When the Moroccan-born Labour MP Ahmed Marcouch first joined in Amsterdam’s legendary gay pride parade , he was, as he puts it, the “first hetero-active Muslim” to participate. The gay community feared violence from extremists; conservative Muslims were baffled and angry. Both groups concluded, “Oh, maybe Marcouch is homosexual too,” he says with a laugh. Neither group could imagine a straight Muslim doing what he did. \n",
            "But public displays of solidarity such as Marcouch’s are rare. Among openly gay couples and religious Jews alike, there is a palpable fear of being targeted by homophobic or antisemitic young Muslim men. Much as in France, this fraught atmosphere has made far-right parties seem a palatable option for groups who would never previously have considered voting for them. \n",
            "In Amsterdam earlier this year, I had several meetings with a staunch Jewish supporter of Wilders’s PVV, who insisted on remaining anonymous. He described his own backing for the far right in terms that echoed Alain Finkielkraut. “It’s an outdated reflex for Jews to always say the problem is the extreme right,” he told me. “We have new enemies and we need new ideas.” \n",
            "The experience of his own family during the second world war has convinced him that Europe’s capacity for murderous violence is always lurking beneath the surface. “Anne Frank wasn’t betrayed by the Germans,” he argued. “But by Dutch people. Regular Dutch.” Jews need to find new allies in a new war, he argues, because they will never be safe. “The trains for the Jews will always come,” he added, ominously. “I’d rather be wrong than be too calm and end up on the trains.” \n",
            "He is not unsympathetic to the plight of European Muslims, and told me that he even sees parallels with the persecution his own family faced. “If I were a Muslim in Europe at this moment I’d be very uneasy,” he admitted. “If Europeans regain their manhood, it could be bad. It’s the history of Europe to treat foreigners terribly. We Jews know that.” \n",
            "For that reason, he argues, Muslims should regard Wilders as a lesser evil. “Every Muslim should be happy Geert Wilders exists. If someone else channelled these hateful feelings it would be much worse,” he told me menacingly. “Wilders is civil. He is a democrat. He is not the new Hitler.” \n",
            "To Frits Bolkestein, who led the Netherlands’ centre-right VVD in the 1990s–and was briefly Wilders’ boss when he was a young aide in the party office–the rise of the far right is as much about class as it is about Islam. The Dutch Labour party, he argues, gave up on its working-class base: “They made a major mistake,” he says of his old rivals, with a tinge of satisfaction. Faced with “the choice between the foreign-born and the labour classes, they chose the foreign-born … and they’ve paid for it dearly”. Current polls project that the party will drop from the 36 seats it now holds (out of 150) to just 10. \n",
            "Marcouch concedes that, like the old leftists in France, many former Labour voters now back Wilders. Moreover, he says, they still live in the very neighbourhoods that families such as his own moved into in the 1980s, as many white Dutch families were moving out. “Their message to the Labour party,” he said, “is: ‘You ignored us. You let it happen.’” \n",
            "The Danish People’s Party has been seeking out such voters for years, and they have masterfully leveraged anti-immigrant sentiment to siphon away the Social Democrats’ traditional base–people who fear that the “bread will be buttered more thinly”, as the Danish journalist Lars Trier Mogensen puts it. \n",
            "The DPP has effectively combined anti-immigrant rhetoric with a strong pro-welfare message that stresses quality health benefits and good care for the elderly. Søren Espersen, the DPP’s deputy leader, doesn’t think that former Social Democrats will ever go back. “When one of those takes the step to vote for us, it is a very, very huge step he is taking,” he says of voters who supported the Social Democrats all their lives. “And why should he go back? I mean, to come over this first hurdle of voting for us, then he’s done it.” \n",
            "The Social Democrats first began to lose their dominance in and around the major cities in the 1990s, with many of their votes going to the DPP. One of those places is the small satellite town of Herlev, about 10 miles west of Copenhagen. The 41-year-old Social Democratic mayor, Thomas Gyldal Petersen, has lived there all his life, and he is adamant that controlling immigration numbers is the only way to reverse his party’s political misfortunes. \n",
            "For Gyldal Petersen, the key to successful integration is a demographic balance. As soon as a school or housing estate becomes majority immigrant–or majority unemployed–he says, problems start to arise. He blames his own party’s leaders: “Mayors in the 80s, they were warning, something is going wrong, you have to change.” But the party leadership “shut their eyes”, he says. \n",
            "Then came the Muhammad cartoons . In 2005, the editors at Jyllands-Posten, Denmark’s largest newspaper, invited a group of well-known cartoonists to draw the prophet. The initial response was underwhelming, but within a few months–through a combination of diplomatic pressure, a dismissive response from the Danish government, and a concerted campaign by local imams–the cartoons became a full-blown crisis, with boycotts of Danish products and violent protests occurring throughout the Middle East. Danes who had never contemplated voting for the DPP now saw their embassies on fire and death threats against some of their best-known journalists. Suddenly, the DPP’s platform was making sense. They had warned that Muslims were extremists in waiting, and now those warnings seemed to come true. Politicians such as Naser Khader, who once warned that giving the DPP influence would weaken them, found themselves moving steadily to the right of the political spectrum. When Khader founded a new organisation called “Democratic Muslims” in the wake of the cartoon controversy, he received death threats. \n",
            "Those at the top of the Social Democrats are now taking a tough stance, too. Earlier this year the party leader, Mette Frederiksen, went to Stockholm to meet with fellow Scandinavian social democrats. There she gave a speech that rattled her colleagues. “We social democrats must accept that there is a clash,” she declared. “It is a very strong part of our identity that we help when people need help . . . but just as strong is our value that we must have a well-functioning welfare state.” Frederiksen continued: “My position is that a universally funded Scandinavian welfare state with free and equal access to healthcare, education and social subsidies is not compatible with an open immigration policy.” \n",
            "But in its zeal to get tough on migration, Denmark has damaged its international reputation as a bastion of progressivism–the sort of place that Bernie Sanders liked to mention at campaign rallies. In January, just three months after the refugee crisis peaked, Denmark passed what became known as the “ jewellery law ”, which stipulated that any refugees carrying valuables worth more than 10,000 kroner (£1,200) would have them confiscated to fund the cost of accommodating asylum-seekers. Editorial pages and columnists across the world lined up to condemn the law. According to Kenneth Kristensen Berth, a babyfaced MP for the DPP, it was about deterrence. “The goal was, of course, that we should try to tell people that they should not seek asylum in Denmark,” he said. The jewellery provision was a minor part. “More important is the fact that many people will be waiting longer for family reunification, like waiting three years,” he added. And it wasn’t just the DPP and government who supported it–the Social Democrats voted for it, too. \n",
            "Bent Melchior, Denmark’s 87-year-old former chief rabbi, was outraged. He bristled at the suggestion that refugees are rich because they flee with some money in their pockets. He would know: although Denmark is always hailed for saving its Jews during the second world war, it is often forgotten that Danish Jews paid fishermen huge sums to ferry them across to Sweden. Melchior’s family paid the equivalent of “almost a year’s rent of a six-room flat” just for his own passage. “Denmark is not a poor country, for God’s sake,” Melchior says. “There’s food for everybody here, and even if we get a few tens of thousands more people, there will still be food for everybody.” \n",
            "The road that led a centre-left party to support such a law has been long and tortuous, but the trajectory has been clear. The Scandinavian welfare system has always been premised on solidarity, with everyone paying their fair share and receiving what they deserve. As the country has become more diverse, some of the trust sustaining it has broken down. There has been abuse of the system by immigrants, and there has been even more tabloid fearmongering depicting immigrants as cheats and leeches sucking the system dry. But the larger issue, as the Oxford economist Paul Collier has argued, is the growing unwillingness of natives to subsidise those seen as the foreign poor. \n",
            "Herlev’s mayor does not oppose asylum, but he insists that the numbers have to be capped. “We have to help refugees, and we have to take refugees to Denmark in a number that we can help. If the balance tips, the welfare society cannot hold together,” Petersen warns. \n",
            "But such balance may only help so much. Aydin Soei, a Danish sociologist and the son of immigrants from Iran, believes there is a larger blind spot in the thinking of the Danish government–one that native Danes who have never been on the receiving end of the state’s integration policy have failed to see. “A lot of refugees were just parked on social welfare instead of [the state] recognising their education and their skills,” Soei told me, citing the case of his own mother, who arrived in Denmark with a physics degree that was regarded as worthless. “If your motivation is to create a liberal society where the individual can create a good life for him or herself, then you would have solved this problem years ago,” he argues. \n",
            "Instead the state has effectively provided newcomers with an allowance and keys to an apartment, and ignored them–assuming that its work was done. The problem, Soei claims, is that there is no political incentive to integrate asylum seekers into the job market. “It doesn’t have consequences for the politicians . . . because they don’t have the right to vote.” Either way, it plays into the DPP’s argument. “Immigrants can’t do right,” said Gyldal Petersen. “When they’re unemployed they’re a burden to society. When they’re in a job, they just stole the job from a Dane.” \n",
            "Whether or not Marine Le Pen wins next year’s French election or Wilders’ PVV becomes the largest party in the Netherlands, the new far right is not going away. The reflex among many establishment parties–and media institutions–has been to dismiss them, sideline them or mock them. Others, however, have begun to mimic them in an effort to win their old voters back. \n",
            "Rhetoric might, in the long run, matter more than election results. When I spoke again recently with the Jewish Wilders supporter from Amsterdam, he was convinced that the battle has in some ways already been won–regardless of the outcome of next year’s elections. “The PVV has shifted the whole political discussion to the right. The Labour party is saying almost exactly the same thing Wilders said five years ago,” he told me. “You can have a lot of influence in politics by steering the debate.” \n",
            "If traditional political parties want to win, they must first abandon the old strategy of marginalising populist movements and instead engage them on the merits–and flaws–of their policies and counter their messages of fear. \n",
            "Not least among the lessons of Brexit was that, for millions of disaffected voters, immigration is just one more thing nobody asked them about . This is what makes the issue an especially potent weapon: it combines the resentful energies of nativism, economic instability, and hatred of a remote and unaccountable political elite. And the leaders of the new far right have learned to wield it effectively. They know better than to let themselves be dismissed, as Jean-Marie Le Pen was, as antisemites or racists. \n",
            "In France, the new majority Marine Le Pen hopes to build is strikingly similar to the coalition that brought the Brexit campaign victory. In a park near Calais’ castle-like town hall in May, Samuel and Pascal, activists from a group named Retake Calais, railed against the town’s centre-right mayor. They blamed her for the growth of the sprawling, trash-strewn tent city known as the Jungle, which sat three miles east of the town until it was dismantled this month . “Those who govern us are completely against us. The illegals, who aren’t French, can do whatever they want,” they told me. For them, even Marine Le Pen is “too soft”. \n",
            "If resettlement programmes take refugees away from Calais to other parts of France, as dozens of buses have in the past week since the destruction of the camp, they would not be any happier. “They’re sending them to all the little villages in France,” says Samuel. After they start to open businesses and bring family members, “in two years the village will be dead”. \n",
            "About a mile down the road, the Calais ferry terminal lies behind layers of tall steel fences and coiled barbed wire. I met Rudy Vercucque and Yohann Faviere, the local FN leaders, on a blustery morning in June outside the terminal, where they were anxiously awaiting a visiting EU dignitary. Giant seagulls circled and squawked above as they denounced the mayor, Natacha Bouchart, a member of Sarkozy’s Republicans party. \n",
            "“It’s she who has permitted this,” Vercucque, a portly 35-year-old, fumed. And it was Sarkozy, he reminded me, who negotiated the notorious Le Touquet accords , effectively moving the British border to where we were standing. Calais depends on British tourism and revenues are down sharply. The result is crippling economic and social malaise: “Find a doctor who wants to move to Calais. Find a surgeon who wants to move to Calais,” Vercucque exclaimed. “You work your whole life, you pay off your house and you lose money. It’s intolerable.” Their support locally may have once been a protest vote, said Faviere, but no longer. “Today we really have people who adhere to our ideas.” \n",
            "Vercucque was more blunt: “We say out loud what people think deep down.”\n",
            "\n"
          ]
        }
      ],
      "source": [
        "# Print False Negatives\n",
        "print(\"False Negatives: ACTUALLY FAKE NEWS!!!\")\n",
        "print()\n",
        "print()\n",
        "# First 2 False Negatives\n",
        "for index in false_negatives[:2]:\n",
        "    print(f\"Index: {index}, Text: {X_test.iloc[index]}\")\n",
        "    print()\n"
      ]
    },
    {
      "cell_type": "code",
      "execution_count": 102,
      "id": "ftXNIK-HBzwH",
      "metadata": {
        "id": "ftXNIK-HBzwH",
        "outputId": "626cf65a-f1b7-4248-f599-ecdd203f7df7"
      },
      "outputs": [
        {
          "name": "stdout",
          "output_type": "stream",
          "text": [
            "\n",
            "False Positives: ACTUALLY REAL NEWS!!!\n",
            "\n",
            "\n",
            "Index: 44, Text: As volatile and nerve-wracking as the great Clinton-Trump Slugfest of 2016 has appeared from the outside, polling data have, for months, suggested a far more stable race. Polling aggregators and election prediction markets have consistently shown Hillary Clinton with an enduring lead over Donald Trump. Then, with less than two weeks remaining until Election Day, F.B.I. director James Comey decided to get involved, firing off a maddeningly vague letter to Congress, alerting them to the renewal of an investigation into new e-mails that may or may not pertain to Clinton’s use of a private server as secretary of state, and throwing the race into chaos. The Mexican peso plunged as Wall Street started pricing in the rising possibility of a Trump win, and the media went into overdrive, hyperventilating over a spate of new polls that showed the race tightening. Now, as we head into the final weekend before America’s much-anticipated day of reckoning, the Hive offers a perspicacious overview of all the multifarious reasons to panic, no matter who you’re voting for on Tuesday.\n",
            "\n",
            "Yes, the polls could be misleading\n",
            "\n",
            "The Chicago Cubs had a smaller chance of winning than Trump currently does, as Kellyanne Conway is quick to remind us. That isn’t to say that the statistics showing a likely Cubs win didn’t accurately take into account everything that sports bettors and analysts knew about both teams at the time. It’s merely to say that predictions are just that—our best guess for what will happen. All polls include a margin of error, and right now, Donald Trump is pretty close to striking distance. According to FiveThirtyEight, Trump lags Clinton by just 3.3 points in a polls-only forecast; in 2012, average polling turned out to be off by 2.7 points. Even if the electoral college seems to place Clinton ahead by wider margins in certain states, “this presumes that the states behave independently from national trends, when in fact they tend to move in tandem,” writes Nate Silver . If national polls are off by 2.7 points, for example, that would be more than enough to flip Wisconsin and Minnesota into Trump’s column, Silver notes. “She has quite a gauntlet to run through to hold her firewall, and she doesn’t have a lot of good backup options.”\n",
            "\n",
            "There’s a worrying degree of variation among polling aggregators, data scientists, and political analysts. While HuffPost Pollster, which excludes outlier polls, currently gives Clinton a 97.9 percent of victory, Silver’s model is far more conservative, giving Clinton a 68.1 percent chance to account for increased volatility. “[E]verything depends on one’s assumptions, but I think that our assumptions—a Clinton lead, sure, but high uncertainty—has repeatedly been validated by the evidence we've seen over the course of the past several months,” Silver recently told Politico.\n",
            "\n",
            "Others are far more optimistic. Neuroscientist Sam Wang, who out-predicted Silver in 2012, has observed that while some individual polls may place Clinton narrowly ahead, Trump’s rise shouldn’t be confused for momentum:\n",
            "\n",
            "“One thing that’s been apparent is that a major feature of voter opinion for last five elections—this is the sixth—is that voters have become entrenched,” says Wang. “The movement of voter opinion has been within a narrow range. In finance and other types of statistical analysis, we call this kind of movement a ‘regression to the mean.’ It happened in 2008, in 2012 and it’s happening this year. When things go too far in one direction, they’ll start to head back to a midpoint. Clinton is now at the low end of where she’s been this season. But if the regression to the mean holds, we should see a little movement back to Clinton. But we’ll see.”\n",
            "\n",
            "Wang’s Princeton Election Consortium pegs Clinton’s chances of winning at over 99 percent.\n",
            "\n",
            "The myth of the “secret” Trump voter\n",
            "\n",
            "“The silent majority is back,” Trump declared less than a week after Clinton’s F.B.I. drama broke out into the open. He was referring to a longstanding belief, possibly backed by political science, that there exist a vast swath of Trump supporters too embarrassed to tell pollsters they plan to vote for him. “When I poll, I do fine. But when I run, I do much better,” he bragged.\n",
            "\n",
            "Experts have thrown cold water on that idea. A POLITICO/Morning Consult study this week suggests that the myth of the shy Trump voter may be only half-right: according to the survey, Hillary Clinton led Trump by five points, 52 to 47, whereas if asked in an online poll or an automated call—two situations in which there was no possibility of social judgment—that gap narrowed to three points, with Clinton leading 51 to 48. Still, the effect was marginal, and Clinton won in both scenarios.\n",
            "\n",
            "Nate Cohn at the Upshot has argued that the mysterious newly registered voter is actually more liberal than most pundits have assumed. While Trump may have more enthusiastic white supporters, data shows no new registration “surge” in this category, whereas more younger white voters, minorities, and women registered for the first time. Pollsters and analysts, Cohn mused, were ignoring these “missing nonwhite voters,” and that “it’s Mrs. Clinton—not Mr. Trump—who stands to gain from a surge of new voters.”\n",
            "\n",
            "Other data also support the idea that polling is underestimating Clinton’s support. While black turnout has been soft compared to four years ago Latinos—who are usually under-polled—appear to be registering and voting at higher levels than before. Talking Points Memo reports that Latino early voting is up 100 percent in Florida, 60 percent in North Carolina, and 25 percent in Colorado and Nevada. Latino Decisions, a Latino advocacy group, told TPM that they are projecting as many as 3.5 million more Latinos will vote in 2016 than in 2012, which could help her win all four aforementioned swing states.\n",
            "\n",
            "So where does that leave us?\n",
            "\n",
            "The latest Clinton e-mail drama may not have caused any significant shifts nationally, outside of a brief hiccup, but it may have rearranged Clinton’s pathway to victory. A week after Comey sent his letter, Silver caught up with the recent polling and found that Clinton’s so-called “blue firewall” has started to weaken, with states such as New Hampshire and Michigan suddenly in greater danger of tilting Trump. ”It’s not clear that things are getting any worse for Clinton, but it’s also not clear that they’re getting better,” he concluded. In fact, nothing is getting much clearer than it has ever been—which, perhaps, is liberating in its own way.\n",
            "\n",
            "Index: 56, Text: For those who can't wait to get this election over with, there's good news — early voting is starting.\n",
            "\n",
            "The bad news: That only applies to you if you live in one of 37 states that offer some kind of early voting (in person, absentee or by mail) without an excuse needed.\n",
            "\n",
            "More than 1 in 3 people is expected to cast a ballot early this year. On Friday, voters in Minnesota and South Dakota can start turning in absentee ballots. On Saturday, they can do so in Vermont, and ballots will go out in New Jersey.\n",
            "\n",
            "Voters have already had the chance to go to the polls in Wisconsin Rapids, Wis., which started holding early in-person voting Monday. (In Wisconsin, each municipality and county sets its early voting dates.)\n",
            "\n",
            "Over the next three weeks, voters in a third of the country will already be able to vote.\n",
            "\n",
            "Early voting could account for up to 34 percent of the vote this year, according to Michael McDonald, associate professor of political science at the University of Florida and founder of the Elections Project, which tracks turnout.\n",
            "\n",
            "He predicts that voting methods such as in-person and all-mail ballots will become the future of exercising democracy. There are even states that operate without physical polling locations, relying solely on the mail during an election — Washington, Oregon and Colorado. And as Americans start to cast their tickets (some as early as September), those votes will carefully be dissected by both campaigns.\n",
            "\n",
            "\"Early votes will give us a good contour of who's enthused to show up to vote,\" McDonald explained.\n",
            "\n",
            "When the absentee ballots begin to flow in, a campaign could spin the numbers in whatever direction it wants. But those reactions will most likely be overwrought. The Trump campaign could spin mail-in votes as an indicator of the polls being wrong (if they still show Clinton ahead), but that would likely be a false reading, McDonald said. That's because registered Republicans tend to vote by mail in bigger numbers than Democrats, and Democrats tend to use early in-person voting more often.\n",
            "\n",
            "\"Romney in 2012 put out records that he was crushing it in Ohio,\" McDonald said. \"They were saying the polls are wrong, look at how well he's doing there. Well, he lost Ohio.\"\n",
            "\n",
            "A point-in-time comparison is a better indicator of how well a candidate is doing in a certain state. By comparing the data and trends of early voting from previous election cycles, the campaigns will know if citizens are passionate enough about their platform to participate in voting — and if campaigns are hitting their marks.\n",
            "\n",
            "\"Early voters are people who have already made up their minds,\" McDonald said. \"Clinton and Trump supporters will vote right now, and it won't matter what happens until Election Day. They're well-educated and dedicated.\"\n",
            "\n",
            "This could be a component for each of the campaigns' successes or failures, especially in battleground states that allow early and no-excuse absentee ballot voting. Florida, for instance, saw almost 4 in 10 people vote early (20 percent early in-person, 19 percent absentee). Professor Paul Gronke of Reed College and founder of the Early Voting Information Center told NPR's Scott Simon that Florida could see an even bigger early vote turnout this year.\n",
            "\n",
            "Early voting could also be a factor in Ohio and North Carolina.\n",
            "\n",
            "\"This is going to change the dynamics in those states, so that you will expect to see early rallies timed when the early voting period opens up,\" Gronke said, adding that \"the candidates' travel schedule will reflect this because they want to follow up that kind of enthusiasm and get people to the polls right away.\"\n",
            "\n",
            "It's not clear how the feelings toward these candidates will affect early voting. Partisan divisions are at their highest levels in decades, and although both candidates hold record-low favorability ratings, Clinton and Trump supporters tend to be pretty adamant about their candidate of choice.\n",
            "\n",
            "The earliest movement for absentee voting began during the Civil War. Soldiers on both sides wanted to cast their ballots in the 1864 election. Several state legislators hashed out the details: How would the votes be cast? How would voter fraud and coercion votes be curtailed? And how would the votes be delivered?\n",
            "\n",
            "Despite these sizable challenges, 25 Union states passed some form of absentee voting for soldiers battling in the muddy and bloody trenches.\n",
            "\n",
            "\"Some say Abraham Lincoln might not have been elected if they weren't allowed to vote,\" McDonald said.\n",
            "\n",
            "Since then, the absentee ballot has evolved to include the sick and the elderly, business people who frequently travel and others who can provide valid reasons for being out of state, like students in college in a different state. There are currently 27 states and the District of Columbia that do not require any reason to request an absentee ballot.\n",
            "\n",
            "By the 1990s, many states took up early in-person voting measures, which allowed individuals to cast their ballots at a polling location during a specific period of time before Election Day.\n",
            "\n",
            "\"The only way we can lose, in my opinion — I really mean this — in Pennsylvania, is if cheating goes on,\" Trump said at a campaign event in Altoona, Pa. \"I hope you people can sort of not just vote on the 8th, go around and look and watch other polling places, and make sure that it's 100 percent fine.\"\n",
            "\n",
            "But, according to McDonald, the chances of voter fraud occurring at polling locations is slim.\n",
            "\n",
            "\"If we look at the weakness in the election system,\" McDonald said, \"it's not at the polling places. There is impression fraud, but it's so rare.\"\n",
            "\n",
            "So rare, in fact, that there were only about 31 separate incidents of possible voter fraud since 2000, based on data collected by Justin Levitt, a professor at Loyola Law School. This includes general, primary, special and municipal elections from 2000 to 2014.\n",
            "\n",
            "To put that in perspective, there were 1 billion ballots cast in the general and primary elections during that time. That's 0.000000031 percent.\n",
            "\n",
            "Some of these incidents may not have been an attempt to actually participate in voter fraud, but could have resulted in data entry errors, a mix-up of matching different people with the same name — or someone accidentally signing in as the wrong person in a poll book.\n",
            "\n",
            "However, there is a bigger risk of voter fraud when it comes to absentee and mail-in ballots, McDonald pointed out.\n",
            "\n",
            "\"Again, this is small, not a huge problem,\" he noted. \"Local elections are the most vulnerable, not presidential elections.\"\n",
            "\n",
            "There were 491 cases of absentee ballot fraud from 2000 to 2012, according to an analysis by News21. If broken down, that's about 80 cases every two years.\n",
            "\n",
            "There are also checks to confirm the authenticity of these ballots. Certain states require people pick up a ballot in person with a valid ID. All absentee and mail-in ballots require a signature that is cross-verified against the voter's voter-registration signature. Any signatures that look suspicious are thrown out.\n",
            "\n",
            "While voter fraud is one issue, another is whether mail-in ballots are filled out and returned correctly.\n",
            "\n",
            "\"Where most people make a mistake is through the mail,\" McDonald said. \"They won't sign the privacy envelope. People try to save the election board money by putting two ballots in one envelope, but they have to throw that away. It's vital for people to follow the mail procedures accurately.\"\n",
            "\n",
            "Vote by mail: Washington state switched to an entirely vote-by-mail system in 2011. Officials noticed that by 1996, more than half of voters were casting their ballots through the mail. It didn't make economic sense for the state to keep its polling places open.\n",
            "\n",
            "The Internet: It's already being used for military members and certain citizens who live outside the country under the Uniformed and Overseas Citizens Absentee Voting Act. In addition to the ability to return a mail-in ballot (which may be limited to military members who are serving in remote locations), electronic ballot transmission is another option.\n",
            "\n",
            "How it works, per McDonald: Voters request electronic delivery of the ballot, either by email or by a secured website where the ballot may be downloaded. The voter then prints out the ballot, completes it and signs it. Now, if the state permits electronic ballot return, the voter will scan the completed ballot and send it either by email or by uploading it to the secured website.\n",
            "\n",
            "If the state does not allow electronic ballot transmission, the voter must print out and assemble a privacy envelope to deliver the ballot, which McDonald said officials call the \"origami project.\" When officials receive the ballot, they check the signature against the one on file with the voter's voter-registration application.\n",
            "\n",
            "This option is only available for uniformed military (stationed both abroad and domestically) and overseas citizens through the voting act. However, Alaska was the first state to extend the electronic ballot delivery and return option to everyone.\n",
            "\n",
            "\"It starts in the military and goes down to the general public,\" McDonald said. \"That's usually how this stuff happens.\"\n",
            "\n",
            "That seemed to be the case with absentee voting and the Civil War. \"I believe more states will follow Alaska's lead to expand ballot electronic delivery and return in the future,\" McDonald said.\n",
            "\n",
            "But don't expect the transition to occur anytime soon. With the recent hack in Arizona and Illinois voter registration databases and the Democratic National Committee's computer system, tackling the challenges of cybersecurity will likely take precedence over convenience.\n",
            "\n",
            "When can people start voting? (In-person or absentee drop-off without an excuse)\n",
            "\n",
            "Sept. 19 – Wisconsin Rapids, Wis. (town holding earliest voting in Wisconsin, where early voting is set by municipalities and counties)\n",
            "\n",
            "Sept. 24 – New Jersey (mail-in ballots sent out), Vermont (until Nov. 7)\n",
            "\n",
            "Sept. 29 – Illinois (goes until Nov. 7), Iowa, North Dakota (ballots mailed; due by Nov. 7), Wyoming (until Nov. 7)\n",
            "\n",
            "Oct. 10 – Los Angeles County, Calif. (early voting is set by counties/municipalities. LA County has earliest — until Nov. 7), Maine (until Nov. 7), Montana (absentee ballots set to be available; can be turned in in person), Nebraska (until Nov. 7)\n",
            "\n",
            "Oct. 19 – Kansas (counties can set earlier dates, goes until Nov. 7), Oregon (most voting is by mail — ballots mailed out, can be dropped off same day), Tennessee (until Nov. 3)\n",
            "\n",
            "Oct. 21 – Washington state (ballots go out that day and can be dropped off)\n",
            "\n",
            "Oct. 22 – D.C. (at Judiciary Square, until Nov. 7), Nevada, New Mexico (in person)\n",
            "\n",
            "Oct. 24 – Alaska (until Nov. 7), Arkansas (until Nov. 7), Colorado (until Nov. 7; ballots mailed out Oct. 17), Idaho (this is the last day a municipality can begin early voting; goes until Nov. 4), Massachusetts (goes until Nov. 4), North Dakota (until Nov. 7), Texas (until Nov. 4)\n",
            "\n",
            "Oct. 25 – Hawaii (until Nov. 5), Louisiana (until Nov. 1), Utah (until Nov. 4)\n",
            "\n",
            "States without no-excuse early voting: Alabama, Connecticut, Delaware, Kentucky, Michigan, Mississippi, Missouri, New Hampshire, New York, Pennsylvania, Rhode Island, South Carolina, Virginia\n",
            "\n"
          ]
        }
      ],
      "source": [
        "# Print False Positives\n",
        "print(\"\\nFalse Positives: ACTUALLY REAL NEWS!!!\")\n",
        "print()\n",
        "print()\n",
        "# First 2 False Positives\n",
        "for index in false_positives[:2]:\n",
        "    print(f\"Index: {index}, Text: {X_test.iloc[index]}\")\n",
        "    print()\n"
      ]
    },
    {
      "cell_type": "code",
      "execution_count": 103,
      "id": "1a-BQY6LBzwH",
      "metadata": {
        "id": "1a-BQY6LBzwH",
        "outputId": "d107c01e-e624-4411-e195-0402d305d564"
      },
      "outputs": [
        {
          "data": {
            "image/png": "[encoded data removed]",
            "text/plain": [
              "<Figure size 800x600 with 2 Axes>"
            ]
          },
          "metadata": {},
          "output_type": "display_data"
        }
      ],
      "source": [
        "# Generate the confusion matrix\n",
        "cm = confusion_matrix(y_test, predictions)\n",
        "\n",
        "# Plotting using seaborn\n",
        "plt.figure(figsize=(8, 6))\n",
        "sns.heatmap(cm, annot=True, fmt=\"d\", cmap=\"Blues\", xticklabels=[\"Real\", \"Fake\"], yticklabels=[\"Real\", \"Fake\"])\n",
        "plt.ylabel('Actual')\n",
        "plt.xlabel('Predicted')\n",
        "plt.title('Confusion Matrix')\n",
        "plt.show()\n"
      ]
    }
  ],
  "metadata": {
    "colab": {
      "provenance": []
    },
    "kernelspec": {
      "display_name": "Python 3 (ipykernel)",
      "language": "python",
      "name": "python3"
    },
    "language_info": {
      "codemirror_mode": {
        "name": "ipython",
        "version": 3
      },
      "file_extension": ".py",
      "mimetype": "text/x-python",
      "name": "python",
      "nbconvert_exporter": "python",
      "pygments_lexer": "ipython3",
      "version": "3.10.9"
    }
  },
  "nbformat": 4,
  "nbformat_minor": 5
}
