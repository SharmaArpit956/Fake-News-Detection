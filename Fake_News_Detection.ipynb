{
  "cells": [
    {
      "cell_type": "code",
      "execution_count": 23,
      "id": "0fa38f25-ce86-41a6-a1bb-b7d34bb91a0d",
      "metadata": {
        "id": "0fa38f25-ce86-41a6-a1bb-b7d34bb91a0d",
        "pycharm": {
          "name": "#%%\n"
        }
      },
      "outputs": [],
      "source": [
        "import numpy as np\n",
        "import pandas as pd\n",
        "from sklearn.model_selection import train_test_split\n",
        "from sklearn.feature_extraction.text import TfidfVectorizer\n",
        "from sklearn.svm import LinearSVC\n",
        "from sklearn.metrics import confusion_matrix\n",
        "import matplotlib.pyplot as plt\n",
        "import seaborn as sns\n",
        "import random\n",
        "import re"
      ]
    },
    {
      "cell_type": "code",
      "execution_count": 24,
      "id": "3eca8e7b-9d84-491b-a12d-aabf4a4661cd",
      "metadata": {
        "id": "3eca8e7b-9d84-491b-a12d-aabf4a4661cd",
        "pycharm": {
          "name": "#%%\n"
        }
      },
      "outputs": [],
      "source": [
        "data = pd.read_csv(\"fake_or_real_news.csv\")"
      ]
    },
    {
      "cell_type": "code",
      "execution_count": 40,
      "id": "8404f05c-847c-4d55-851e-22b5523217d5",
      "metadata": {
        "id": "8404f05c-847c-4d55-851e-22b5523217d5",
        "outputId": "be829e2b-e29e-49ea-e6e7-d473e4057466",
        "pycharm": {
          "name": "#%%\n"
        }
      },
      "outputs": [
        {
          "data": {
            "text/plain": [
              "<bound method NDFrame.head of          id                                              title  \\\n",
              "0      8476                       You Can Smell Hillary’s Fear   \n",
              "1     10294  Watch The Exact Moment Paul Ryan Committed Pol...   \n",
              "2      3608        Kerry to go to Paris in gesture of sympathy   \n",
              "3     10142  Bernie supporters on Twitter erupt in anger ag...   \n",
              "4       875   The Battle of New York: Why This Primary Matters   \n",
              "...     ...                                                ...   \n",
              "6330   4490  State Department says it can't find emails fro...   \n",
              "6331   8062  The ‘P’ in PBS Should Stand for ‘Plutocratic’ ...   \n",
              "6332   8622  Anti-Trump Protesters Are Tools of the Oligarc...   \n",
              "6333   4021  In Ethiopia, Obama seeks progress on peace, se...   \n",
              "6334   4330  Jeb Bush Is Suddenly Attacking Trump. Here's W...   \n",
              "\n",
              "                                                   text  fake  \n",
              "0     Daniel Greenfield, a Shillman Journalism Fello...     1  \n",
              "1     Google Pinterest Digg Linkedin Reddit Stumbleu...     1  \n",
              "2     U.S. Secretary of State John F. Kerry said Mon...     0  \n",
              "3     — Kaydee King (@KaydeeKing) November 9, 2016 T...     1  \n",
              "4     It's primary day in New York and front-runners...     0  \n",
              "...                                                 ...   ...  \n",
              "6330  The State Department told the Republican Natio...     0  \n",
              "6331  The ‘P’ in PBS Should Stand for ‘Plutocratic’ ...     1  \n",
              "6332   Anti-Trump Protesters Are Tools of the Oligar...     1  \n",
              "6333  ADDIS ABABA, Ethiopia —President Obama convene...     0  \n",
              "6334  Jeb Bush Is Suddenly Attacking Trump. Here's W...     0  \n",
              "\n",
              "[6335 rows x 4 columns]>"
            ]
          },
          "execution_count": 40,
          "metadata": {},
          "output_type": "execute_result"
        }
      ],
      "source": [
        "# data.head"
      ]
    },
    {
      "cell_type": "code",
      "execution_count": 26,
      "id": "b1b8b232-b221-4f54-8ac3-412faa79bb74",
      "metadata": {
        "id": "b1b8b232-b221-4f54-8ac3-412faa79bb74",
        "pycharm": {
          "name": "#%%\n"
        }
      },
      "outputs": [],
      "source": [
        "data['fake'] = data['label'].apply(lambda x: 0 if x == \"REAL\" else 1)\n",
        "data = data.drop(\"label\", axis=1)"
      ]
    },
    {
      "cell_type": "code",
      "execution_count": 27,
      "id": "928a6e91-a51f-4429-9f67-a9ea955da69b",
      "metadata": {
        "id": "928a6e91-a51f-4429-9f67-a9ea955da69b",
        "pycharm": {
          "name": "#%%\n"
        }
      },
      "outputs": [],
      "source": [
        "X, y = data[\"text\"], data[\"fake\"]\n",
        "\n",
        "X_train, X_test, y_train, y_test = train_test_split(X, y, test_size=0.2)"
      ]
    },
    {
      "cell_type": "markdown",
      "id": "cb83bc27-31df-490a-bc47-5b4a5dcf1937",
      "metadata": {
        "id": "cb83bc27-31df-490a-bc47-5b4a5dcf1937",
        "pycharm": {
          "name": "#%% md\n"
        }
      },
      "source": [
        "TF-IDF: Term Frequency - Inverse Document Frequency\n",
        "\n",
        "A metric that indicates how important a word is to a document in a collection. It weighs the improtance of each word in a document based on how often it appears in that document and how often it appears accross all documents in the collection.\n",
        "\n",
        "TF: Number of times a term t appears in a document\n",
        "IDF: Logarithm of total number of documents divided by no. of docs that contain term\n",
        "TF-IDF: TF * IDF\n",
        "\n",
        "Basically allows us to find the most relevant and distinctive words per document."
      ]
    },
    {
      "cell_type": "code",
      "execution_count": 28,
      "id": "398615cb-56f2-4811-9036-38962c401d47",
      "metadata": {
        "id": "398615cb-56f2-4811-9036-38962c401d47",
        "pycharm": {
          "name": "#%%\n"
        }
      },
      "outputs": [],
      "source": [
        "vectorizer = TfidfVectorizer(stop_words='english', max_df=0.7)\n",
        "X_train_vectorized = vectorizer.fit_transform(X_train)\n",
        "X_test_vectorized = vectorizer.transform(X_test)"
      ]
    },
    {
      "cell_type": "code",
      "execution_count": 29,
      "id": "77d5f2f4-7ad6-4f64-8a76-2d4cbb8976bb",
      "metadata": {
        "id": "77d5f2f4-7ad6-4f64-8a76-2d4cbb8976bb",
        "outputId": "98a7ca3f-46cb-4c27-e2b4-033c14188d11",
        "pycharm": {
          "name": "#%%\n"
        }
      },
      "outputs": [
        {
          "data": {
            "text/html": [
              "<style>#sk-container-id-2 {color: black;background-color: white;}#sk-container-id-2 pre{padding: 0;}#sk-container-id-2 div.sk-toggleable {background-color: white;}#sk-container-id-2 label.sk-toggleable__label {cursor: pointer;display: block;width: 100%;margin-bottom: 0;padding: 0.3em;box-sizing: border-box;text-align: center;}#sk-container-id-2 label.sk-toggleable__label-arrow:before {content: \"▸\";float: left;margin-right: 0.25em;color: #696969;}#sk-container-id-2 label.sk-toggleable__label-arrow:hover:before {color: black;}#sk-container-id-2 div.sk-estimator:hover label.sk-toggleable__label-arrow:before {color: black;}#sk-container-id-2 div.sk-toggleable__content {max-height: 0;max-width: 0;overflow: hidden;text-align: left;background-color: #f0f8ff;}#sk-container-id-2 div.sk-toggleable__content pre {margin: 0.2em;color: black;border-radius: 0.25em;background-color: #f0f8ff;}#sk-container-id-2 input.sk-toggleable__control:checked~div.sk-toggleable__content {max-height: 200px;max-width: 100%;overflow: auto;}#sk-container-id-2 input.sk-toggleable__control:checked~label.sk-toggleable__label-arrow:before {content: \"▾\";}#sk-container-id-2 div.sk-estimator input.sk-toggleable__control:checked~label.sk-toggleable__label {background-color: #d4ebff;}#sk-container-id-2 div.sk-label input.sk-toggleable__control:checked~label.sk-toggleable__label {background-color: #d4ebff;}#sk-container-id-2 input.sk-hidden--visually {border: 0;clip: rect(1px 1px 1px 1px);clip: rect(1px, 1px, 1px, 1px);height: 1px;margin: -1px;overflow: hidden;padding: 0;position: absolute;width: 1px;}#sk-container-id-2 div.sk-estimator {font-family: monospace;background-color: #f0f8ff;border: 1px dotted black;border-radius: 0.25em;box-sizing: border-box;margin-bottom: 0.5em;}#sk-container-id-2 div.sk-estimator:hover {background-color: #d4ebff;}#sk-container-id-2 div.sk-parallel-item::after {content: \"\";width: 100%;border-bottom: 1px solid gray;flex-grow: 1;}#sk-container-id-2 div.sk-label:hover label.sk-toggleable__label {background-color: #d4ebff;}#sk-container-id-2 div.sk-serial::before {content: \"\";position: absolute;border-left: 1px solid gray;box-sizing: border-box;top: 0;bottom: 0;left: 50%;z-index: 0;}#sk-container-id-2 div.sk-serial {display: flex;flex-direction: column;align-items: center;background-color: white;padding-right: 0.2em;padding-left: 0.2em;position: relative;}#sk-container-id-2 div.sk-item {position: relative;z-index: 1;}#sk-container-id-2 div.sk-parallel {display: flex;align-items: stretch;justify-content: center;background-color: white;position: relative;}#sk-container-id-2 div.sk-item::before, #sk-container-id-2 div.sk-parallel-item::before {content: \"\";position: absolute;border-left: 1px solid gray;box-sizing: border-box;top: 0;bottom: 0;left: 50%;z-index: -1;}#sk-container-id-2 div.sk-parallel-item {display: flex;flex-direction: column;z-index: 1;position: relative;background-color: white;}#sk-container-id-2 div.sk-parallel-item:first-child::after {align-self: flex-end;width: 50%;}#sk-container-id-2 div.sk-parallel-item:last-child::after {align-self: flex-start;width: 50%;}#sk-container-id-2 div.sk-parallel-item:only-child::after {width: 0;}#sk-container-id-2 div.sk-dashed-wrapped {border: 1px dashed gray;margin: 0 0.4em 0.5em 0.4em;box-sizing: border-box;padding-bottom: 0.4em;background-color: white;}#sk-container-id-2 div.sk-label label {font-family: monospace;font-weight: bold;display: inline-block;line-height: 1.2em;}#sk-container-id-2 div.sk-label-container {text-align: center;}#sk-container-id-2 div.sk-container {/* jupyter's `normalize.less` sets `[hidden] { display: none; }` but bootstrap.min.css set `[hidden] { display: none !important; }` so we also need the `!important` here to be able to override the default hidden behavior on the sphinx rendered scikit-learn.org. See: https://github.com/scikit-learn/scikit-learn/issues/21755 */display: inline-block !important;position: relative;}#sk-container-id-2 div.sk-text-repr-fallback {display: none;}</style><div id=\"sk-container-id-2\" class=\"sk-top-container\"><div class=\"sk-text-repr-fallback\"><pre>LinearSVC()</pre><b>In a Jupyter environment, please rerun this cell to show the HTML representation or trust the notebook. <br />On GitHub, the HTML representation is unable to render, please try loading this page with nbviewer.org.</b></div><div class=\"sk-container\" hidden><div class=\"sk-item\"><div class=\"sk-estimator sk-toggleable\"><input class=\"sk-toggleable__control sk-hidden--visually\" id=\"sk-estimator-id-2\" type=\"checkbox\" checked><label for=\"sk-estimator-id-2\" class=\"sk-toggleable__label sk-toggleable__label-arrow\">LinearSVC</label><div class=\"sk-toggleable__content\"><pre>LinearSVC()</pre></div></div></div></div></div>"
            ],
            "text/plain": [
              "LinearSVC()"
            ]
          },
          "execution_count": 29,
          "metadata": {},
          "output_type": "execute_result"
        }
      ],
      "source": [
        "clf = LinearSVC()  # Linear SVC is considered one of the best text classification algorithms\n",
        "clf.fit(X_train_vectorized, y_train)"
      ]
    },
    {
      "cell_type": "code",
      "execution_count": 30,
      "id": "e074b5ae-019d-40d8-be2c-b30b03baa0d9",
      "metadata": {
        "id": "e074b5ae-019d-40d8-be2c-b30b03baa0d9",
        "outputId": "de93004d-988d-4ceb-dc8e-e173c4be50f3",
        "pycharm": {
          "name": "#%%\n"
        }
      },
      "outputs": [
        {
          "data": {
            "text/plain": [
              "0.9455406471981057"
            ]
          },
          "execution_count": 30,
          "metadata": {},
          "output_type": "execute_result"
        }
      ],
      "source": [
        "clf.score(X_test_vectorized, y_test)"
      ]
    },
    {
      "cell_type": "code",
      "execution_count": 31,
      "id": "da1819a2-4185-46ca-a3eb-7f21fd607c04",
      "metadata": {
        "id": "da1819a2-4185-46ca-a3eb-7f21fd607c04",
        "pycharm": {
          "name": "#%%\n"
        }
      },
      "outputs": [],
      "source": [
        "article_text = X_test.iloc[10]\n",
        "vectorized_text = vectorizer.transform([article_text])"
      ]
    },
    {
      "cell_type": "code",
      "execution_count": 32,
      "id": "10dff146-93eb-4a14-a75f-61fa6afed777",
      "metadata": {
        "id": "10dff146-93eb-4a14-a75f-61fa6afed777",
        "outputId": "049ae8d3-79ba-4147-e8fd-01e5fc078857",
        "pycharm": {
          "name": "#%%\n"
        }
      },
      "outputs": [
        {
          "data": {
            "text/plain": [
              "array([0], dtype=int64)"
            ]
          },
          "execution_count": 32,
          "metadata": {},
          "output_type": "execute_result"
        }
      ],
      "source": [
        "clf.predict(vectorized_text)"
      ]
    },
    {
      "cell_type": "code",
      "execution_count": 33,
      "id": "6c20c502-4e67-443d-8e25-29ae3a77d1e0",
      "metadata": {
        "id": "6c20c502-4e67-443d-8e25-29ae3a77d1e0",
        "outputId": "1bb94a06-4821-4565-e77c-75f3b8d335f7",
        "pycharm": {
          "name": "#%%\n"
        }
      },
      "outputs": [
        {
          "data": {
            "text/plain": [
              "0"
            ]
          },
          "execution_count": 33,
          "metadata": {},
          "output_type": "execute_result"
        }
      ],
      "source": [
        "y_test.iloc[10]"
      ]
    },
    {
      "cell_type": "code",
      "execution_count": 34,
      "id": "LMmKqK6-BzwG",
      "metadata": {
        "id": "LMmKqK6-BzwG",
        "outputId": "c79fde6f-d7fa-4431-940c-678b185ce96f"
      },
      "outputs": [
        {
          "name": "stdout",
          "output_type": "stream",
          "text": [
            "The answer is correct.\n"
          ]
        }
      ],
      "source": [
        "# Generate a random index within the range of X_test\n",
        "random_index = random.randint(0, len(X_test) - 1)\n",
        "\n",
        "# Select a random article using the generated index\n",
        "article_text = X_test.iloc[random_index]\n",
        "vectorized_text = vectorizer.transform([article_text])\n",
        "\n",
        "# Predict\n",
        "predicted_value = clf.predict(vectorized_text)[0]\n",
        "\n",
        "# Actual value\n",
        "actual_value = y_test.iloc[random_index]\n",
        "\n",
        "# Comparison and output\n",
        "if predicted_value == actual_value:\n",
        "    print(\"The answer is correct.\")\n",
        "else:\n",
        "    print(\"The answer is incorrect.\")\n",
        "\n"
      ]
    },
    {
      "cell_type": "code",
      "execution_count": 35,
      "id": "Belrhu7ZBzwG",
      "metadata": {
        "id": "Belrhu7ZBzwG",
        "outputId": "768e09dc-7795-4e64-ca9c-2a3e2b8380b7"
      },
      "outputs": [],
      "source": [
        "# Predict for the entire test set\n",
        "predictions = clf.predict(X_test_vectorized)\n",
        "\n",
        "# Convert predictions and actual labels to arrays for easier comparison\n",
        "predictions_array = np.array(predictions)\n",
        "actual_labels_array = y_test.to_numpy()\n",
        "\n",
        "# Find indices where predictions and actual labels differ\n",
        "mismatch_indices = np.where(predictions_array != actual_labels_array)[0]\n",
        "\n",
        "## Print each mismatch with its index\n",
        "# for index in mismatch_indices:\n",
        "#     print(f\"Index: {index}, Predicted: {predictions_array[index]}, Actual: {actual_labels_array[index]}\")\n",
        "#     print(f\"Text: {X_test.iloc[index]}\\n\")\n"
      ]
    },
    {
      "cell_type": "code",
      "execution_count": 36,
      "id": "7CQEhSt5BzwG",
      "metadata": {
        "id": "7CQEhSt5BzwG"
      },
      "outputs": [],
      "source": [
        "# Predict for the entire test set\n",
        "predictions = clf.predict(X_test_vectorized)\n",
        "\n",
        "# Convert predictions and actual labels to arrays for easier comparison\n",
        "predictions_array = np.array(predictions)\n",
        "actual_labels_array = y_test.to_numpy()\n",
        "\n",
        "# Initialize lists for false negatives and false positives\n",
        "false_negatives = []\n",
        "false_positives = []\n",
        "\n",
        "# Iterate over the predictions and actual labels\n",
        "for i in range(len(predictions_array)):\n",
        "    if predictions_array[i] == 0 and actual_labels_array[i] == 1:\n",
        "        # False Negative\n",
        "        false_negatives.append(i)\n",
        "    elif predictions_array[i] == 1 and actual_labels_array[i] == 0:\n",
        "        # False Positive\n",
        "        false_positives.append(i)"
      ]
    },
    {
      "cell_type": "code",
      "execution_count": 37,
      "id": "LNAOCkz5BzwG",
      "metadata": {
        "id": "LNAOCkz5BzwG",
        "outputId": "423e7bcc-04b9-4cbe-d63b-a43ca40805f9"
      },
      "outputs": [
        {
          "name": "stdout",
          "output_type": "stream",
          "text": [
            "False Negatives: ACTUALLY FAKE\n",
            "Index: 433, Text: Originally appeared at Strategic Culture Foundation \n",
            "Both inside the US and around the world, political observers have been waiting a long time for an election that would promise relief from the most noxious features of the American system. Alas, while it is high time that the US lead the way in reversing these trends, the outcome of the 18 month struggle to elect a new administration looks likely to scuttle all hopes for serious leadership and reform. \n",
            "I'm looking forward to a market crash to awaken the electorate out of our rut, honestly. Because if a Loony Tunes candidate {meaning Donald Trump – DK} doesn't give Democrats the courage to put up a push-left candidate {Bernie Sanders, or some facsimile – DK}, then catastrophe is the only correction we have left. – commenter «Snapshotist» \n",
            "Both inside the US and around the world, political observers have been waiting a long time for an election that would promise relief from the most noxious features of the American system, such as neoliberal economic austerity policies that hamstring governments' ability to maintain basic services and safety nets, military aggression and destabilization of regimes across a wide swathe of the globe, wholesale violation of privacy via NSA surveillance, trade agreements designed to maximize the power of international corporations over national governments, facilitation of fossil fuel extraction and infrastructure in the face of dire climate change consequences, a financial system sucking wealth away from the population and accelerating wealth inequality, and more. \n",
            "Alas, while it is high time that the US lead the way in reversing these trends, the outcome of the 18 month struggle to elect a new presidential administration looks likely to scuttle all hopes for serious leadership and reform on any of these critical issues. It follows, therefore, that in the near term (if not longer), progress will not be possible unless new forms of politics arise to deliver pressure from below on Washington, DC. But how much hope can we have for that? When will see this again? Crowds lining up hours in advance for a Bernie Sanders rally, New York, April 13th, 2016 \n",
            "A Trump Contribution? \n",
            "By all indications, Clinton will win the election on November 8th, and virtually every political commentator will rejoice at the apparent demise of the Donald Trump phenomenon. As strange as it may seem, however, some of the passion of the Trump movement could provide fuel to the fire of reformist politics in the US. To be sure, Trump's campaign has gone far towards legitimizing and normalizing bigotry and ignorance, and this residue will persist. But Trump has also galvanized powerful resentment against an insular, self-serving political class. This sentiment dovetails with a major thrust of Bernie Sanders's advocacy of social democratic policies and empowerment of the population to reverse the accumulation of all power in the hands of wealthy campaign donors and corporations. \n",
            "Further, let us not forget, Trump has consistently promoted the idea of shelving antagonism towards Russia in favor of cooperation, together with reducing the role of the US military around the world. The point is not whether Trump genuinely means what he says (although one of his advisors who spoke with us insists that he does). The point is that Trump brought these positions out into the light, which has allowed increasing numbers of Americans to question the nation's reflexive reliance on military might, expansion, and aggression as a pillar of its foreign policy. If the left is truly serious about unseating Washington's neoliberal status quo, it should make every effort to harness some of the frustration that coalesced into the Trump movement towards broadly shared goals – getting the money out of politics being the most obvious. \n",
            "The Gullible Left \n",
            "For the moment, of course, the huge majority of the left is consumed with the impending election, and with the perceived imperative of defeating Trump by supporting Clinton as the «lesser evil» candidate. At first glance this seems eminently reasonable. But the certitude that has swept the country regarding the preferability of Clinton over Trump ought to give us pause. For those paying close attention, it is not necessarily clear which candidate is the lesser evil. The flaws marring each candidate are so grotesque, and the variables confronting the next administration are so uncertain, that one can easily support a case in either direction. A small segment of the left will reject both Brahmins and cast affirmative votes for Green Party candidate Jill Stein, of course. But the readiness of much of the left – the gullible left – to ignore Clinton's corruption, crimes, and cynicism is preemptively sapping the strength of the resistance that will be needed to push Madame President to pursue even half-baked progressive reforms on any issue. \n",
            "Meanwhile, as the gullible left and center coalesce meekly around Clinton, the real election is taking place behind the scenes: Clinton and her inner circle are lining up the key personnel who will largely determine the course of policy in her administration. Thanks to Wikileaks' publication of Clinton's current campaign chairman, John Podesta, we know very well that this process is far advanced by now. As David Dayen put it recently in « The New Republic »: \n",
            "If the 2008 Podesta emails are any indication, the next four years of public policy are being hashed out right now, behind closed doors.... Who gets these cabinet-level and West Wing advisory jobs matters as much as policy papers or legislative initiatives. It will inform executive branch priorities and responses to crises. It will dictate the level of enforcement of existing laws. It will establish the point of view of an administration and the advice Hillary Clinton will receive. Its importance cannot be stressed enough, and the process has already begun. This is a fight over who dominates the Democratic Party’s policy thinking in the short and long term. \n",
            "Dayen adds that «...if liberals want to have an impact on that process, waiting until after the election will be too late». Well, one wonders why Dayen is so optimistic. Another Wikileaks release revealed that Clinton had more or less decided on Tim Kaine as her running mate all the way back in mid-2015 (!). Surely many of the top positions have long since been scripted, and for those still in play, can anyone – even David Dayen -- imagine public pressure making a difference in the selection? \n",
            "In short, the world should prepare itself for a Hillary Clinton administration that is full of Washington establishment clones and is diligently protected from criticism by a like-minded media establishment. Moreover, and more important, we can already see the Clinton administration maneuvering to avoid the gridlock that minimized President Obama's effectiveness by pushing key foreign and domestic policies further to the right, into the arms of the Republican Party. It is not difficult to locate telling indications on this score... «Sorry, I can't vote for Mrs. Strangelove» – commenter «natureboy» , renouncing Clinton for her hawkishness \n",
            "The implications of Clinton's ascendancy on US foreign policy are already coming into view, and they are more than a little disturbing. An article from Washington Post White House correspondent Greg Jaffe on October 20th delivered news just as bad as we expected: \n",
            "The Republicans and Democrats who make up the foreign policy elite are laying the groundwork for a more assertive American foreign policy via a flurry of reports shaped by officials who are likely to play senior roles in a potential Clinton White House.... the bipartisan nature of the recent recommendations, coming at a time when the country has never been more polarized, reflects a remarkable consensus among the foreign policy elite. This consensus is driven by a broad-based backlash against a president who has repeatedly stressed the dangers of overreach and the need for restraint, especially in the Middle East… Taken together, the studies and reports call for more-aggressive American action to constrain Iran, rein in the chaos in the Middle East and check Russia in Europe. \n",
            "Clinton is preparing a foreign policy more aggressive than Obama's, in other words. And – take note – she'll enjoy bipartisan support for it. «The entire concept is a form of corporate blackmail» -- David Dayen , characterizing Clinton's preparation of a tax repatriation policy that will permanently lower the tax obligations of large corporations. \n",
            "As far as domestic policy is concerned, meanwhile, all recent revelations point to a posture even more friendly to large corporate interests than that which has obtained under Obama. For example, an important investigation from David Dayen just a few days ago exposed the Clinton circle's coordination with top Democrats and Republicans in preparing an enormous and permanent reduction on taxation of profits corporations earn abroad. As journalist Matt Taibbi once described a similar proposal: «Let's give a big tax break to the biggest tax cheats». \n",
            "Yes, we can expect a few corporate-written trade deals to follow the tax reduction on profits earned overseas. And Wall Street will not be left out. Clinton has many options to assist her finance sector sponsors, including an important plan David Sirota and Avi Asher-Shapiro revealed last week. It would deliver hundreds of billions of dollars worth of individuals' retirement accounts into the hands of asset managers employing aggressive alternative investment strategies, and net the managers billions a year in fees. Campaign contributions do indeed bring corporations colossal returns in the US. Did you enjoy this article? - Consider helping us! Russia Insider depends on your donations: the more you give, the more we can do. $1 $10 Other amount \n",
            "If you wish you make a tax-deductible contribution of $1,000 or more, please visit our Support page for instructions Click here for our commenting guidelines On fire\n",
            "\n"
          ]
        }
      ],
      "source": [
        "# Print a False Negative\n",
        "print(\"False Negatives: ACTUALLY FAKE\")\n",
        "index= false_negatives[8]\n",
        "print(f\"Index: {index}, Text: {X_test.iloc[index]}\")\n",
        "print()\n",
        "\n"
      ]
    },
    {
      "cell_type": "code",
      "execution_count": 38,
      "id": "ftXNIK-HBzwH",
      "metadata": {
        "id": "ftXNIK-HBzwH",
        "outputId": "626cf65a-f1b7-4248-f599-ecdd203f7df7"
      },
      "outputs": [
        {
          "name": "stdout",
          "output_type": "stream",
          "text": [
            "\n",
            "False Positives: ACTUALLY REAL\n",
            "Index: 155, Text: After the bombshell announcement Friday that the FBI is reopening the Clinton email investigation, Hillary Clinton looked awkward on the campaign trail as she tried to take suspicion off herself and put it on FBI Director James Comey.\n",
            "\n",
            "\"Some of you may have heard about a letter,\" Clinton said to a chorus of boos from her supporters. \"It's pretty strange to put something like that out with such little information right before an election. In fact, it's not just strange, it's unprecedented and it is deeply troubling.\"\n",
            "\n",
            "The Wall Street Journal reported that Comey's letter sent to lawmakers Friday said that 650,000 emails were discovered on the laptop of disgraced former Congressman Anthony Wiener, the estranged husband of Clinton's top aide, Huma Abedin. Weiner is under criminal investigation for allegedly sexting a teen.\n",
            "\n",
            "Metadata on the emails suggests thousands of those messages could have been sent to or from then-Secretary of State Clinton's private server.\n",
            "\n",
            "Comey said the FBI would take steps to review those emails to see if any were classified. A law enforcement official says the intelligence agency has obtained a search warrant.\n",
            "\n",
            "\"We commend the FBI for reopening this case and having the courage to stand up for the principle because no one is above the law in the United States of America,\" Republican vice presidential candidate Mike Pence told supporters in North Carolina.\n",
            "\n",
            "But Clinton campaign chair John Podesta attacked Comey, telling CNN, \"To throw this in the middle of the campaign 11 days out just seemed to break with precedent and be inappropriate at this stage.\"\n",
            "\n",
            "Both campaigns want the FBI to release what it knows, but since it's an ongoing investigation, that's probably not likely.\n",
            "\n",
            "According to multiple reports, many agents in the FBI were unhappy with Comey's original handling of the Clinton email investigation and his decision not to recommend charges against her.\n",
            "\n",
            "Republican presidential candidate Donald Trump called it the biggest scandal since Watergate: \"We never thought we were going to say 'thank you' to Anthony Weiner,\" he said.\n",
            "\n",
            "The reopened FBI investigation is sure to impact a race that has already tightened, with the latest polls showing Trump has made it a virtual dead heat.\n",
            "\n"
          ]
        }
      ],
      "source": [
        "# Print a False Positive\n",
        "print(\"\\nFalse Positives: ACTUALLY REAL\")\n",
        "index= false_positives[8]\n",
        "print(f\"Index: {index}, Text: {X_test.iloc[index]}\")\n",
        "print()"
      ]
    },
    {
      "cell_type": "code",
      "execution_count": 39,
      "id": "1a-BQY6LBzwH",
      "metadata": {
        "id": "1a-BQY6LBzwH",
        "outputId": "d107c01e-e624-4411-e195-0402d305d564"
      },
      "outputs": [
        {
          "data": {
            "image/png": "[encoded data removed]",
            "text/plain": [
              "<Figure size 800x600 with 2 Axes>"
            ]
          },
          "metadata": {},
          "output_type": "display_data"
        }
      ],
      "source": [
        "# Generate the confusion matrix\n",
        "cm = confusion_matrix(y_test, predictions)\n",
        "\n",
        "# Plotting using seaborn\n",
        "plt.figure(figsize=(8, 6))\n",
        "sns.heatmap(cm, annot=True, fmt=\"d\", cmap=\"Blues\", xticklabels=[\"Real\", \"Fake\"], yticklabels=[\"Real\", \"Fake\"])\n",
        "plt.ylabel('Actual')\n",
        "plt.xlabel('Predicted')\n",
        "plt.title('Confusion Matrix')\n",
        "plt.show()\n"
      ]
    }
  ],
  "metadata": {
    "colab": {
      "provenance": []
    },
    "kernelspec": {
      "display_name": "Python 3 (ipykernel)",
      "language": "python",
      "name": "python3"
    },
    "language_info": {
      "codemirror_mode": {
        "name": "ipython",
        "version": 3
      },
      "file_extension": ".py",
      "mimetype": "text/x-python",
      "name": "python",
      "nbconvert_exporter": "python",
      "pygments_lexer": "ipython3",
      "version": "3.10.9"
    }
  },
  "nbformat": 4,
  "nbformat_minor": 5
}
